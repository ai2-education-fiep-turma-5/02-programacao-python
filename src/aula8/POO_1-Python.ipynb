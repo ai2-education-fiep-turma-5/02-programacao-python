{
 "cells": [
  {
   "cell_type": "markdown",
   "metadata": {},
   "source": [
    "<img src=\"oo.png\" width=700 height=700>"
   ]
  },
  {
   "cell_type": "markdown",
   "metadata": {},
   "source": [
    "## Programação Orientada Objeto\n",
    "\n",
    "Em POO, o programador trabalha com Dados de Objetos ao invés dos Dados Globais, tradicionalmente utilizados na Programação Estruturada.\n",
    "\n",
    "\"Segundo os livros de programação, um objeto é considerado algo material ou abstrato, que pode ser descrito por meio de suas caraterísticas, comportamentos e estado atual. Desta forma, em programação, um objeto pode ser uma caneta, um carro, uma pessoa, ou também um compromisso, uma venda, um horário no médico…\"\n",
    "\n",
    "\n",
    "A POO não substitui a forma de programação estruturada, simplesmente é uma outra forma de entender, organizar e desenvolver os códigos para realização de tarefas.\n",
    "\n",
    "Imaginemos a seguinte condição:"
   ]
  },
  {
   "cell_type": "markdown",
   "metadata": {},
   "source": [
    "## Criando Classes\n",
    "\n",
    "<img src=\"class.png\" width=700 height=700>\n",
    "\n",
    "**Fernando** é uma instância de Funcionário\n",
    "\n",
    "print(Fernando.Nome)\n",
    "\n",
    "print(Fernando.Data.Nascimento)"
   ]
  },
  {
   "cell_type": "markdown",
   "metadata": {},
   "source": [
    "<img src=\"func.png\" width=500 height=500>"
   ]
  },
  {
   "cell_type": "markdown",
   "metadata": {},
   "source": [
    "## Herança\n",
    "\n",
    "<img src=\"her.png\" width=200 height=200>"
   ]
  },
  {
   "cell_type": "markdown",
   "metadata": {},
   "source": [
    "## Vamos iniciar então nosso estudo de classes"
   ]
  },
  {
   "cell_type": "code",
   "execution_count": 1,
   "metadata": {},
   "outputs": [
    {
     "name": "stdout",
     "output_type": "stream",
     "text": [
      "<class '__main__.Testando'>\n"
     ]
    }
   ],
   "source": [
    "# criando classes\n",
    "\n",
    "class Testando: \n",
    "    pass\n",
    "\n",
    "minha_classe = Testando() # É uma instância da classe Testando\n",
    "print(type(minha_classe))"
   ]
  },
  {
   "cell_type": "code",
   "execution_count": 2,
   "metadata": {},
   "outputs": [],
   "source": [
    "# Construtor\n",
    "\n",
    "class First:\n",
    "    def __init__(self): \n",
    "        print(\"Estou nessa classe\")"
   ]
  },
  {
   "cell_type": "code",
   "execution_count": 3,
   "metadata": {},
   "outputs": [
    {
     "name": "stdout",
     "output_type": "stream",
     "text": [
      "Estou nessa classe\n",
      "<class '__main__.First'>\n"
     ]
    }
   ],
   "source": [
    "# Estanciando a classe First\n",
    "\n",
    "var = First()\n",
    "print(type(var))"
   ]
  },
  {
   "cell_type": "code",
   "execution_count": 4,
   "metadata": {},
   "outputs": [],
   "source": [
    "class Pessoa:\n",
    "    def __init__(self, nome, idade):\n",
    "        self.nome = nome\n",
    "        self.idade = idade\n",
    "        print(\"Pessoa com nome %s e idade %d foi criada\" %(nome, idade))"
   ]
  },
  {
   "cell_type": "code",
   "execution_count": 5,
   "metadata": {},
   "outputs": [
    {
     "name": "stdout",
     "output_type": "stream",
     "text": [
      "Pessoa com nome Clayton e idade 48 foi criada\n",
      "Pessoa com nome Maiara e idade 25 foi criada\n"
     ]
    }
   ],
   "source": [
    "p1 = Pessoa(\"Clayton\", 48)\n",
    "p2 = Pessoa(\"Maiara\", 25)"
   ]
  },
  {
   "cell_type": "code",
   "execution_count": 6,
   "metadata": {},
   "outputs": [
    {
     "name": "stdout",
     "output_type": "stream",
     "text": [
      "Clayton\n",
      "25\n"
     ]
    }
   ],
   "source": [
    "print(p1.nome)\n",
    "print(p2.idade)"
   ]
  },
  {
   "cell_type": "code",
   "execution_count": 7,
   "metadata": {},
   "outputs": [
    {
     "name": "stdout",
     "output_type": "stream",
     "text": [
      "Liliane\n"
     ]
    }
   ],
   "source": [
    "p1.nome = \"Liliane\"\n",
    "print(p1.nome)"
   ]
  },
  {
   "cell_type": "code",
   "execution_count": 8,
   "metadata": {},
   "outputs": [
    {
     "data": {
      "text/plain": [
       "'Liliane'"
      ]
     },
     "execution_count": 8,
     "metadata": {},
     "output_type": "execute_result"
    }
   ],
   "source": [
    "p1.nome"
   ]
  },
  {
   "cell_type": "code",
   "execution_count": 9,
   "metadata": {},
   "outputs": [
    {
     "name": "stdout",
     "output_type": "stream",
     "text": [
      "Pessoa com nome Clayton e idade 48 foi criada\n",
      "Pessoa com nome Maiara e idade 25 foi criada\n"
     ]
    }
   ],
   "source": [
    "# Atributos para a classe\n",
    "\n",
    "class Pessoa:\n",
    "    especie = \"Bipede\"\n",
    "    def __init__(self, nome, idade):\n",
    "        self.nome = nome\n",
    "        self.idade = idade\n",
    "        print(\"Pessoa com nome %s e idade %d foi criada\" %(nome, idade))\n",
    "        \n",
    "p1 = Pessoa(\"Clayton\", 48)\n",
    "p2 = Pessoa(\"Maiara\", 25)"
   ]
  },
  {
   "cell_type": "code",
   "execution_count": 10,
   "metadata": {},
   "outputs": [
    {
     "name": "stdout",
     "output_type": "stream",
     "text": [
      "Bipede\n",
      "Bipede\n"
     ]
    }
   ],
   "source": [
    "print(p1.especie)\n",
    "print(p2.especie)"
   ]
  },
  {
   "cell_type": "code",
   "execution_count": 11,
   "metadata": {},
   "outputs": [
    {
     "name": "stdout",
     "output_type": "stream",
     "text": [
      "2\n"
     ]
    }
   ],
   "source": [
    "# Outro atributo estático\n",
    "\n",
    "class Pessoa:\n",
    "    especie = \"Bipede\"\n",
    "    n_pessoas = 0\n",
    "    def __init__(self, nome, idade):\n",
    "        self.nome = nome\n",
    "        self.idade = idade\n",
    "        Pessoa.n_pessoas +=1\n",
    "        \n",
    "p1 = Pessoa(\"Clayton\", 48)\n",
    "p2 = Pessoa(\"João\", 36)\n",
    "\n",
    "print(Pessoa.n_pessoas)"
   ]
  },
  {
   "cell_type": "markdown",
   "metadata": {},
   "source": [
    "## Metodos em classes"
   ]
  },
  {
   "cell_type": "code",
   "execution_count": 12,
   "metadata": {},
   "outputs": [
    {
     "name": "stdout",
     "output_type": "stream",
     "text": [
      "Olá, aqui quem está falando é Clayton\n",
      "Olá, aqui quem está falando é Maiara\n"
     ]
    }
   ],
   "source": [
    "class Pessoa:\n",
    "    def __init__(self, nome, idade):\n",
    "        self.nome = nome\n",
    "        self.idade = idade\n",
    "        \n",
    "    def imprime_name(self):\n",
    "        print(\"Olá, aqui quem está falando é %s\" %(self.nome))\n",
    "        \n",
    "p1 = Pessoa(\"Clayton\", 32)\n",
    "p2 = Pessoa(\"Maiara\", 26)\n",
    "\n",
    "p1.imprime_name()\n",
    "p2.imprime_name()"
   ]
  },
  {
   "cell_type": "code",
   "execution_count": 13,
   "metadata": {},
   "outputs": [
    {
     "name": "stdout",
     "output_type": "stream",
     "text": [
      "Olá, sou Clayton\n",
      "Olá, sou Maiara\n"
     ]
    }
   ],
   "source": [
    "# uma função chamando a outra através dos seus parâmetros\n",
    "\n",
    "class Pessoa:\n",
    "    def __init__(self, nome, idade):\n",
    "        self.nome = nome\n",
    "        self.idade = idade\n",
    "        \n",
    "    def imprime_value(self, nome):\n",
    "        print(\"Olá, sou %s\" %(nome))\n",
    "        \n",
    "    def imprime_name(self):\n",
    "        self.imprime_value(self.nome)\n",
    "        \n",
    "p1 = Pessoa(\"Clayton\", 32)\n",
    "p2 = Pessoa(\"Maiara\", 26)\n",
    "\n",
    "p1.imprime_name()\n",
    "p2.imprime_name()"
   ]
  },
  {
   "cell_type": "code",
   "execution_count": 14,
   "metadata": {},
   "outputs": [
    {
     "name": "stdout",
     "output_type": "stream",
     "text": [
      "Clayton 38\n"
     ]
    }
   ],
   "source": [
    "# Criando novos atributos para os objetos\n",
    "\n",
    "class Pessoa:\n",
    "    def __init__(self, nome):\n",
    "        self.nome = nome\n",
    "        \n",
    "    def add_idade(self, idade):\n",
    "        self.idade = idade\n",
    "        \n",
    "        \n",
    "p1 = Pessoa(\"Clayton\")\n",
    "p1.add_idade(38)\n",
    "print(p1.nome, p1.idade)"
   ]
  },
  {
   "cell_type": "markdown",
   "metadata": {},
   "source": [
    "## Classe como atributo de outra classe"
   ]
  },
  {
   "cell_type": "code",
   "execution_count": 15,
   "metadata": {},
   "outputs": [
    {
     "name": "stdout",
     "output_type": "stream",
     "text": [
      "38\n",
      "38\n"
     ]
    }
   ],
   "source": [
    "class Class_one:\n",
    "    def __init__(self, anotherclass):\n",
    "        self.anotherclass = anotherclass\n",
    "        \n",
    "class Class_two:\n",
    "    number = 38\n",
    "    \n",
    "classe2 = Class_two()\n",
    "classe1 = Class_one(classe2)\n",
    "\n",
    "print(classe1.anotherclass.number)\n",
    "print(classe2.number)"
   ]
  },
  {
   "cell_type": "markdown",
   "metadata": {},
   "source": [
    "## Herança\n",
    "\n",
    "A Herança possibilita que as classes compartilhem seus atributos, métodos e outros membros da classe entre sí. Para a ligação entre as classes, a herança adota um relacionamento esquematização hierarquicamente\n",
    "\n",
    "Na herança, temos dois tipos de classe:\n",
    "- classe Base(Pai): A classe que concede as características a uma outra classes\n",
    "- classe Derivada (Filho): A classe que herda as características da classe base"
   ]
  },
  {
   "cell_type": "code",
   "execution_count": 16,
   "metadata": {},
   "outputs": [],
   "source": [
    "# Desenvolver uma classe para calcular a área de uma forma geométrica\n",
    "\n",
    "class Pai:\n",
    "    def __init__(self, altura, largura):\n",
    "        self.altura = altura\n",
    "        self.largura = largura\n",
    "\n",
    "class Quadrado(Pai): # filho 1\n",
    "    pass\n",
    "\n",
    "class Triangulo(Pai): # filho 2\n",
    "    pass\n",
    "    "
   ]
  },
  {
   "cell_type": "code",
   "execution_count": 17,
   "metadata": {},
   "outputs": [
    {
     "name": "stdout",
     "output_type": "stream",
     "text": [
      "100\n",
      "40\n"
     ]
    }
   ],
   "source": [
    "# instanciando a minha classe\n",
    "\n",
    "filho1 = Quadrado(100, 50)\n",
    "filho2 = Triangulo(20,40)\n",
    "\n",
    "print(filho1.altura)\n",
    "print(filho2.largura)"
   ]
  },
  {
   "cell_type": "code",
   "execution_count": 18,
   "metadata": {},
   "outputs": [
    {
     "name": "stdout",
     "output_type": "stream",
     "text": [
      "100\n",
      "50\n",
      "10\n",
      "\n",
      "\n",
      "20\n",
      "40\n",
      "25\n"
     ]
    }
   ],
   "source": [
    "class Pai:\n",
    "    def __init__(self, altura, largura):\n",
    "        self.altura = altura\n",
    "        self.largura = largura\n",
    "\n",
    "class Quadrado(Pai): # filho 1\n",
    "    lado = 10\n",
    "\n",
    "class Triangulo(Pai): # filho 2\n",
    "    angulo = 25\n",
    "    \n",
    "    \n",
    "filho1 = Quadrado(100, 50)\n",
    "filho2 = Triangulo(20,40)\n",
    "\n",
    "print(filho1.altura)\n",
    "print(filho1.largura)\n",
    "print(filho1.lado)\n",
    "print(\"\\n\")\n",
    "print(filho2.altura)\n",
    "print(filho2.largura)\n",
    "print(filho2.angulo)"
   ]
  },
  {
   "cell_type": "code",
   "execution_count": 19,
   "metadata": {},
   "outputs": [
    {
     "name": "stdout",
     "output_type": "stream",
     "text": [
      "Aqui está sendo herdado!!!\n",
      "Aqui está sendo herdado!!!\n"
     ]
    }
   ],
   "source": [
    "# Herdando da classe Pai\n",
    "\n",
    "class Pai:\n",
    "    def __init__(self, altura, largura):\n",
    "        self.altura = altura\n",
    "        self.largura = largura\n",
    "        \n",
    "    def herdado(self):\n",
    "        print(\"Aqui está sendo herdado!!!\")\n",
    "\n",
    "class Quadrado(Pai): # filho 1\n",
    "    pass\n",
    "\n",
    "class Triangulo(Pai): # filho 2\n",
    "    pass\n",
    "\n",
    "# instanciando\n",
    "f1 = Quadrado(100,50)\n",
    "f2 = Triangulo(20,40)\n",
    "\n",
    "# Objetos herdam métodos da classe Pai\n",
    "f1.herdado()\n",
    "f2.herdado()\n",
    "    "
   ]
  },
  {
   "cell_type": "code",
   "execution_count": 22,
   "metadata": {},
   "outputs": [
    {
     "name": "stdout",
     "output_type": "stream",
     "text": [
      "Classe Pai\n",
      "Classe Filho 1 \n",
      "Classe Filho 2 \n"
     ]
    }
   ],
   "source": [
    "# Subscrevendo o método herdado\n",
    "\n",
    "class Pai:\n",
    "    def __init__(self):\n",
    "        print(\"Classe Pai\")\n",
    "\n",
    "class Filho1(Pai): # filho 1\n",
    "    def __init__(self):\n",
    "        print(\"Classe Filho 1 \")\n",
    "\n",
    "class Filho2(Pai): # filho 1\n",
    "    def __init__(self):\n",
    "        print(\"Classe Filho 2 \")\n",
    "\n",
    "        \n",
    "# instanciando\n",
    "pai = Pai()\n",
    "f1 = Filho1()\n",
    "f2 = Filho2()"
   ]
  },
  {
   "cell_type": "code",
   "execution_count": 23,
   "metadata": {},
   "outputs": [
    {
     "name": "stdout",
     "output_type": "stream",
     "text": [
      "30\n",
      "Método quadrado\n",
      "28\n",
      "Método triangulo\n"
     ]
    }
   ],
   "source": [
    "# Overwrite com seus próprios atributos\n",
    "\n",
    "class Pai:\n",
    "    def __init__(self, altura, largura):\n",
    "        self.altura = altura\n",
    "        self.largura = largura\n",
    "        \n",
    "class Quadrado(Pai): # filho 1\n",
    "    def __init__(self, altura, largura, val_quadrado):\n",
    "        # instanciando altura e largura da classe Pai\n",
    "        Pai.__init__(self, altura, largura)\n",
    "        self.val_quadrado = val_quadrado\n",
    "\n",
    "class Triangulo(Pai): # filho 2\n",
    "    def __init__(self, altura, largura, val_triangulo):\n",
    "        # instanciando altura e largura da classe Pai\n",
    "        Pai.__init__(self, altura, largura)\n",
    "        self.val_triangulo = val_triangulo\n",
    "        \n",
    "# instanciando\n",
    "quad = Quadrado(30, 20, 'Método quadrado')\n",
    "tria = Triangulo(28, 12, 'Método triangulo')\n",
    "\n",
    "print(quad.altura)\n",
    "print(quad.val_quadrado)\n",
    "\n",
    "print(tria.altura)\n",
    "print(tria.val_triangulo)"
   ]
  },
  {
   "cell_type": "code",
   "execution_count": 24,
   "metadata": {},
   "outputs": [
    {
     "name": "stdout",
     "output_type": "stream",
     "text": [
      "Essa é a área do quadrado: 600\n",
      "Essa é a área do triângulo: 168.0\n"
     ]
    }
   ],
   "source": [
    "# invocando a função para calcular os parâmetros e herdar para a classe as suas instâncias\n",
    "\n",
    "class Pai:\n",
    "    def __init__(self, altura, largura):\n",
    "        self.altura = altura\n",
    "        self.largura = largura\n",
    "        \n",
    "    def cal_area(self):\n",
    "        pass\n",
    "        \n",
    "class Quadrado(Pai): # filho 1\n",
    "    def cal_area(self):\n",
    "        return self.altura * self.largura\n",
    "    \n",
    "class Triangulo(Pai): # filho 2\n",
    "    def cal_area(self):\n",
    "        return (self.altura * self.largura)/2\n",
    "    \n",
    "# instanciando\n",
    "quad = Quadrado(30, 20)\n",
    "tria = Triangulo(28, 12)\n",
    "\n",
    "print(\"Essa é a área do quadrado:\", quad.cal_area())\n",
    "print(\"Essa é a área do triângulo:\", tria.cal_area())"
   ]
  },
  {
   "cell_type": "markdown",
   "metadata": {},
   "source": [
    "## Classe para controlar um veículo"
   ]
  },
  {
   "cell_type": "code",
   "execution_count": 48,
   "metadata": {},
   "outputs": [
    {
     "name": "stdout",
     "output_type": "stream",
     "text": [
      "Marcha do hb20:  6\n",
      "Marcha do porche:  3\n"
     ]
    }
   ],
   "source": [
    "class Carros:\n",
    "    def __init__(self, marcha):\n",
    "        self.marcha = marcha\n",
    "        \n",
    "    def marcha_mais(self):\n",
    "        self.marcha +=1\n",
    "        self.marcha = min(self.marcha,5)\n",
    "        \n",
    "    def marcha_menos(self):\n",
    "        self.marcha -+1\n",
    "        self.marcha = max(self.marcha, 1)\n",
    "        \n",
    "class Hb20(Carros):\n",
    "    def __init__(self, marcha):\n",
    "        Carros.__init__(self, marcha)\n",
    "        \n",
    "class Porch(Carros):\n",
    "    def __init__(self, marcha):\n",
    "        Carros.__init__(self, marcha)\n",
    "        \n",
    "    def marcha_mais(self):\n",
    "        self.marcha +=1\n",
    "        self.marcha = min(self.marcha,6)\n",
    "    \n",
    "        \n",
    "hb = Hb20(1)\n",
    "#hb.marcha_mais()\n",
    "hb.marcha_menos()\n",
    "print('Marcha do hb20: ', por.marcha)\n",
    "\n",
    "por = Porch(1)\n",
    "por.marcha_mais()\n",
    "por.marcha_mais()\n",
    "\n",
    "por.marcha_menos()\n",
    "print('Marcha do porche: ', por.marcha)"
   ]
  },
  {
   "cell_type": "markdown",
   "metadata": {},
   "source": [
    "## Herança múltipla"
   ]
  },
  {
   "cell_type": "code",
   "execution_count": 52,
   "metadata": {},
   "outputs": [
    {
     "name": "stdout",
     "output_type": "stream",
     "text": [
      "Olá!!\n"
     ]
    }
   ],
   "source": [
    "class English():\n",
    "    def greet(self):\n",
    "        print(\"Hello!!\")\n",
    "        \n",
    "class Portugues():\n",
    "    def greet(self):\n",
    "        print(\"Olá!!\")\n",
    "        \n",
    "class Bilingue(Portugues,English):\n",
    "    pass\n",
    "    \n",
    "if __name__=='__main__':\n",
    "    Bilingue().greet()"
   ]
  },
  {
   "cell_type": "markdown",
   "metadata": {},
   "source": [
    "## Modificadores de Acasso"
   ]
  },
  {
   "cell_type": "code",
   "execution_count": 78,
   "metadata": {},
   "outputs": [
    {
     "name": "stdout",
     "output_type": "stream",
     "text": [
      "pass@#\n"
     ]
    },
    {
     "data": {
      "text/plain": [
       "<bound method Password.__print_segredo of <__main__.Password object at 0x7f01ede26c88>>"
      ]
     },
     "execution_count": 78,
     "metadata": {},
     "output_type": "execute_result"
    }
   ],
   "source": [
    "# trabalhando com informações privadas (Private)\n",
    "\n",
    "class Password():\n",
    "    def __init__(self):\n",
    "        self.__secreta = 'pass@#'\n",
    "    \n",
    "    def __print_segredo(self):\n",
    "        print(self.__secreta)\n",
    "        \n",
    "    def print_segredo(self):\n",
    "        self.__print_segredo()\n",
    "    \n",
    "        \n",
    "passw = Password()\n",
    "passw.print_segredo()\n",
    "passw._Password__print_segredo"
   ]
  },
  {
   "cell_type": "code",
   "execution_count": 79,
   "metadata": {},
   "outputs": [
    {
     "data": {
      "text/plain": [
       "['_Password__print_segredo',\n",
       " '_Password__secreta',\n",
       " '__class__',\n",
       " '__delattr__',\n",
       " '__dict__',\n",
       " '__dir__',\n",
       " '__doc__',\n",
       " '__eq__',\n",
       " '__format__',\n",
       " '__ge__',\n",
       " '__getattribute__',\n",
       " '__gt__',\n",
       " '__hash__',\n",
       " '__init__',\n",
       " '__init_subclass__',\n",
       " '__le__',\n",
       " '__lt__',\n",
       " '__module__',\n",
       " '__ne__',\n",
       " '__new__',\n",
       " '__reduce__',\n",
       " '__reduce_ex__',\n",
       " '__repr__',\n",
       " '__setattr__',\n",
       " '__sizeof__',\n",
       " '__str__',\n",
       " '__subclasshook__',\n",
       " '__weakref__',\n",
       " 'print_segredo']"
      ]
     },
     "execution_count": 79,
     "metadata": {},
     "output_type": "execute_result"
    }
   ],
   "source": [
    "dir(passw)"
   ]
  },
  {
   "cell_type": "code",
   "execution_count": 80,
   "metadata": {},
   "outputs": [
    {
     "name": "stdout",
     "output_type": "stream",
     "text": [
      "ChancePasswd\n"
     ]
    }
   ],
   "source": [
    "passw._Password__secreta = 'ChancePasswd'\n",
    "print(passw._Password__secreta)"
   ]
  },
  {
   "cell_type": "code",
   "execution_count": 81,
   "metadata": {},
   "outputs": [
    {
     "name": "stdout",
     "output_type": "stream",
     "text": [
      "ChancePasswd\n"
     ]
    },
    {
     "data": {
      "text/plain": [
       "<bound method Password.__print_segredo of <__main__.Password object at 0x7f01ede26c88>>"
      ]
     },
     "execution_count": 81,
     "metadata": {},
     "output_type": "execute_result"
    }
   ],
   "source": [
    "passw.print_segredo()\n",
    "passw._Password__print_segredo"
   ]
  },
  {
   "cell_type": "code",
   "execution_count": 88,
   "metadata": {},
   "outputs": [
    {
     "name": "stdout",
     "output_type": "stream",
     "text": [
      "2\n"
     ]
    }
   ],
   "source": [
    "class Carros():\n",
    "    def __init__(self):\n",
    "        self.__marcha = 1\n",
    "        \n",
    "    def marcha_mais(self):\n",
    "        self.__marcha +=1\n",
    "        self.__marcha = min(self.__marcha,5)\n",
    "        \n",
    "    def marcha_menos(self):\n",
    "        self.__marcha -+1\n",
    "        self.__marcha = max(self.__marcha, 1)\n",
    "        \n",
    "    def apresenta_marcha(self):\n",
    "        return self.__marcha\n",
    "    \n",
    "carro = Carros()\n",
    "carro.marcha_mais()\n",
    "\n",
    "carro.marcha_menos()\n",
    "print(carro.apresenta_marcha())"
   ]
  },
  {
   "cell_type": "markdown",
   "metadata": {},
   "source": [
    "## Utilizando o Property\n",
    "\n",
    "Função especifica para ler e alterar uma propriedade, realiza uma chamada de uma função definida para que possa alterar uma determinada propriedade"
   ]
  },
  {
   "cell_type": "code",
   "execution_count": 90,
   "metadata": {},
   "outputs": [
    {
     "name": "stdout",
     "output_type": "stream",
     "text": [
      "Recebe o nome: \n",
      "Clayton\n"
     ]
    }
   ],
   "source": [
    "class Pessoa():\n",
    "    def __init__(self, nome):\n",
    "        self.__nome = nome\n",
    "        \n",
    "    def get_nome(self):\n",
    "        print(\"Recebe o nome: \")\n",
    "        return self.__nome\n",
    "    \n",
    "    nome = property(get_nome)\n",
    "    \n",
    "pessoa = Pessoa(\"Clayton\")\n",
    "print(pessoa.nome)"
   ]
  },
  {
   "cell_type": "code",
   "execution_count": 91,
   "metadata": {},
   "outputs": [
    {
     "name": "stdout",
     "output_type": "stream",
     "text": [
      "Recebe o nome: \n",
      "Clayton\n",
      "Setando o nome: \n",
      "Recebe o nome: \n",
      "Dayana\n"
     ]
    }
   ],
   "source": [
    "class Pessoa():\n",
    "    def __init__(self, nome):\n",
    "        self.__nome = nome\n",
    "        \n",
    "    def get_nome(self):\n",
    "        print(\"Recebe o nome: \")\n",
    "        return self.__nome\n",
    "    \n",
    "    def set_nome(self, nome):\n",
    "        if len(nome) > 0:\n",
    "            print('Setando o nome: ')\n",
    "            self.__nome = nome\n",
    "    \n",
    "    nome = property(get_nome, set_nome)\n",
    "    \n",
    "pessoa = Pessoa(\"Clayton\")\n",
    "print(pessoa.nome)\n",
    "pessoa.nome = \"Dayana\"\n",
    "print(pessoa.nome)"
   ]
  },
  {
   "cell_type": "code",
   "execution_count": 104,
   "metadata": {},
   "outputs": [
    {
     "name": "stdout",
     "output_type": "stream",
     "text": [
      "Setando o nome: \n"
     ]
    }
   ],
   "source": [
    "# método set e metodo get\n",
    "\n",
    "class Pessoa():\n",
    "    def __init__(self, nome):\n",
    "        self.__nome = nome\n",
    "        \n",
    "    def set_nome(self, nome):\n",
    "        if len(nome) > 0:\n",
    "            print('Setando o nome: ')\n",
    "            self.__nome = nome\n",
    "    \n",
    "    nome = property(fset=set_nome)\n",
    "    \n",
    "pessoa = Pessoa(\"Clayton\")\n",
    "pessoa.nome = 'João'"
   ]
  },
  {
   "cell_type": "code",
   "execution_count": 101,
   "metadata": {},
   "outputs": [
    {
     "name": "stdout",
     "output_type": "stream",
     "text": [
      "Valor setado para: 10\n",
      "Olha esse valor\n",
      "10\n"
     ]
    }
   ],
   "source": [
    "# testando números naturais\n",
    "\n",
    "class Numero:\n",
    "    def __init__(self, numero):\n",
    "        self.__numero = numero\n",
    "        \n",
    "    @property\n",
    "    def numero(self):\n",
    "        print(\"Olha esse valor\")\n",
    "        return self.__numero\n",
    "        \n",
    "    @numero.setter\n",
    "    def numero(self, valor):\n",
    "        if valor >= 0:\n",
    "            self.__numero = valor\n",
    "            print(\"Valor setado para:\", valor)\n",
    "        \n",
    "number = Numero(30)\n",
    "number.numero = 10\n",
    "\n",
    "print(number.numero)"
   ]
  },
  {
   "cell_type": "code",
   "execution_count": null,
   "metadata": {},
   "outputs": [],
   "source": [
    ":"
   ]
  }
 ],
 "metadata": {
  "kernelspec": {
   "display_name": "Python 3",
   "language": "python",
   "name": "python3"
  },
  "language_info": {
   "codemirror_mode": {
    "name": "ipython",
    "version": 3
   },
   "file_extension": ".py",
   "mimetype": "text/x-python",
   "name": "python",
   "nbconvert_exporter": "python",
   "pygments_lexer": "ipython3",
   "version": "3.7.3"
  }
 },
 "nbformat": 4,
 "nbformat_minor": 2
}
