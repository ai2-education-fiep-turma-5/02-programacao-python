{
 "cells": [
  {
   "cell_type": "markdown",
   "metadata": {},
   "source": [
    "<img src=\"func.png\" width=700 height=700>"
   ]
  },
  {
   "cell_type": "markdown",
   "metadata": {},
   "source": [
    "Em Python, uma função é uma sequência de comandos que executa alguma tarefa e que tem um nome. A sua principal finalidade é nos ajudar a organizar programas em pedaços que correspondam a como imaginamos uma solução do problema.\n",
    "\n",
    "Sua sintaxe de uma definição de função é:\n",
    "\n",
    "<span style=\"color:green\">def</span> <span style=\"color:blue\">NOME</span>(parametros):<br/>\n",
    "> ...<br/>\n",
    "> ...<br/>\n",
    "> return\n",
    "            \n"
   ]
  },
  {
   "cell_type": "code",
   "execution_count": 1,
   "metadata": {},
   "outputs": [],
   "source": [
    "# Função sem parâmetros\n",
    "\n",
    "def func():\n",
    "    num = 6\n",
    "    print(\"Função retorna %d\" %num)"
   ]
  },
  {
   "cell_type": "code",
   "execution_count": 2,
   "metadata": {},
   "outputs": [
    {
     "name": "stdout",
     "output_type": "stream",
     "text": [
      "Função retorna 6\n"
     ]
    }
   ],
   "source": [
    "func()"
   ]
  },
  {
   "cell_type": "code",
   "execution_count": 3,
   "metadata": {},
   "outputs": [],
   "source": [
    "def nada():\n",
    "    pass"
   ]
  },
  {
   "cell_type": "code",
   "execution_count": 4,
   "metadata": {},
   "outputs": [],
   "source": [
    "nada()"
   ]
  },
  {
   "cell_type": "code",
   "execution_count": 5,
   "metadata": {},
   "outputs": [],
   "source": [
    "# funções com parâmetros\n",
    "\n",
    "def print_var(value):\n",
    "    print(\"Valor digitado foi:\", value)"
   ]
  },
  {
   "cell_type": "code",
   "execution_count": 6,
   "metadata": {},
   "outputs": [
    {
     "name": "stdout",
     "output_type": "stream",
     "text": [
      "Valor digitado foi: 5\n"
     ]
    }
   ],
   "source": [
    "print_var(5)"
   ]
  },
  {
   "cell_type": "code",
   "execution_count": 7,
   "metadata": {},
   "outputs": [],
   "source": [
    "# funções com parâmtros fixos\n",
    "\n",
    "def two(a,b):\n",
    "    print(a+b)"
   ]
  },
  {
   "cell_type": "code",
   "execution_count": 8,
   "metadata": {},
   "outputs": [
    {
     "name": "stdout",
     "output_type": "stream",
     "text": [
      "7\n"
     ]
    }
   ],
   "source": [
    "two(2,5)"
   ]
  },
  {
   "cell_type": "code",
   "execution_count": 9,
   "metadata": {},
   "outputs": [
    {
     "name": "stdout",
     "output_type": "stream",
     "text": [
      "3.4000000000000004\n"
     ]
    }
   ],
   "source": [
    "two(1.6, 1.8)"
   ]
  },
  {
   "cell_type": "code",
   "execution_count": 10,
   "metadata": {},
   "outputs": [
    {
     "name": "stdout",
     "output_type": "stream",
     "text": [
      "Minha Casa\n"
     ]
    }
   ],
   "source": [
    "two('Minha',' Casa')"
   ]
  },
  {
   "cell_type": "code",
   "execution_count": 11,
   "metadata": {},
   "outputs": [],
   "source": [
    "def two(a,b):\n",
    "    print(a-b)"
   ]
  },
  {
   "cell_type": "code",
   "execution_count": 12,
   "metadata": {},
   "outputs": [
    {
     "name": "stdout",
     "output_type": "stream",
     "text": [
      "-2\n"
     ]
    }
   ],
   "source": [
    "two(1,3)"
   ]
  },
  {
   "cell_type": "code",
   "execution_count": 13,
   "metadata": {},
   "outputs": [
    {
     "name": "stdout",
     "output_type": "stream",
     "text": [
      "2\n"
     ]
    }
   ],
   "source": [
    "two(b=1, a=3)"
   ]
  },
  {
   "cell_type": "code",
   "execution_count": null,
   "metadata": {},
   "outputs": [],
   "source": []
  },
  {
   "cell_type": "code",
   "execution_count": 14,
   "metadata": {},
   "outputs": [],
   "source": [
    "# função com parâmetros arbitrários\n",
    "\n",
    "def func_arg(*args):\n",
    "    print(\"Argumentos: \",args)\n",
    "    print(type(args))"
   ]
  },
  {
   "cell_type": "code",
   "execution_count": 15,
   "metadata": {},
   "outputs": [
    {
     "name": "stdout",
     "output_type": "stream",
     "text": [
      "Argumentos:  (1, 2, 3)\n",
      "<class 'tuple'>\n"
     ]
    }
   ],
   "source": [
    "func_arg(1, 2, 3)"
   ]
  },
  {
   "cell_type": "code",
   "execution_count": 16,
   "metadata": {},
   "outputs": [
    {
     "name": "stdout",
     "output_type": "stream",
     "text": [
      "Argumentos:  ('hubia',)\n",
      "<class 'tuple'>\n"
     ]
    }
   ],
   "source": [
    "func_arg(\"hubia\")"
   ]
  },
  {
   "cell_type": "code",
   "execution_count": 17,
   "metadata": {},
   "outputs": [
    {
     "name": "stdout",
     "output_type": "stream",
     "text": [
      "Argumentos:  ()\n",
      "<class 'tuple'>\n"
     ]
    }
   ],
   "source": [
    "func_arg()"
   ]
  },
  {
   "cell_type": "code",
   "execution_count": 18,
   "metadata": {},
   "outputs": [
    {
     "name": "stdout",
     "output_type": "stream",
     "text": [
      "Argumentos:  ('Hubia', 24, True, ['casa', 7, 1.4])\n",
      "<class 'tuple'>\n"
     ]
    }
   ],
   "source": [
    "func_arg(\"Hubia\", 24, 4<7, [\"casa\", 7, 1.4])"
   ]
  },
  {
   "cell_type": "code",
   "execution_count": 19,
   "metadata": {},
   "outputs": [],
   "source": [
    "def func_arg(*args, next):\n",
    "    print(\"Argumentos: \",args)\n",
    "    print(next)"
   ]
  },
  {
   "cell_type": "code",
   "execution_count": 20,
   "metadata": {},
   "outputs": [
    {
     "name": "stdout",
     "output_type": "stream",
     "text": [
      "Argumentos:  (3.2, 'Hello')\n",
      "30\n"
     ]
    }
   ],
   "source": [
    "func_arg(3.2, 'Hello', next=30)"
   ]
  },
  {
   "cell_type": "code",
   "execution_count": 21,
   "metadata": {},
   "outputs": [
    {
     "name": "stdout",
     "output_type": "stream",
     "text": [
      "Argumentos:  ()\n",
      "Aula1\n"
     ]
    }
   ],
   "source": [
    "func_arg(next=\"Aula1\")"
   ]
  },
  {
   "cell_type": "code",
   "execution_count": 22,
   "metadata": {},
   "outputs": [],
   "source": [
    "# Assumindo valores na função\n",
    "\n",
    "def func(valor, nome= \"AulaFunc\"):\n",
    "    print(nome, valor)"
   ]
  },
  {
   "cell_type": "code",
   "execution_count": 23,
   "metadata": {},
   "outputs": [
    {
     "name": "stdout",
     "output_type": "stream",
     "text": [
      "Nova aula 3\n"
     ]
    }
   ],
   "source": [
    "func(3, \"Nova aula\")"
   ]
  },
  {
   "cell_type": "code",
   "execution_count": 24,
   "metadata": {},
   "outputs": [],
   "source": [
    "# Nome e parâmetro arbitrário\n",
    "\n",
    "def func(**args):\n",
    "    print(type(args))\n",
    "    print(args)\n",
    "    print(args['Valor'])"
   ]
  },
  {
   "cell_type": "code",
   "execution_count": 25,
   "metadata": {},
   "outputs": [
    {
     "name": "stdout",
     "output_type": "stream",
     "text": [
      "<class 'dict'>\n",
      "{'Valor': '200', 'operacao': 'Soma', 'resultado': 20}\n",
      "200\n"
     ]
    }
   ],
   "source": [
    "func(Valor='200', operacao = 'Soma', resultado=20)"
   ]
  },
  {
   "cell_type": "code",
   "execution_count": 26,
   "metadata": {},
   "outputs": [],
   "source": [
    "# função como parâmetro para outra função\n",
    "\n",
    "def imprime(a):\n",
    "    print(a)\n",
    "    \n",
    "def executa(func, b):\n",
    "    func(b+15)"
   ]
  },
  {
   "cell_type": "code",
   "execution_count": 27,
   "metadata": {},
   "outputs": [
    {
     "name": "stdout",
     "output_type": "stream",
     "text": [
      "<class 'function'>\n",
      "37\n"
     ]
    }
   ],
   "source": [
    "recebe = imprime\n",
    "print(type(recebe))\n",
    "executa(recebe, 22)"
   ]
  },
  {
   "cell_type": "markdown",
   "metadata": {},
   "source": [
    "## Funções que retornam valores 'return'\n"
   ]
  },
  {
   "cell_type": "code",
   "execution_count": 28,
   "metadata": {},
   "outputs": [],
   "source": [
    "def sub(a,b):\n",
    "    return a - b"
   ]
  },
  {
   "cell_type": "code",
   "execution_count": 29,
   "metadata": {},
   "outputs": [
    {
     "name": "stdout",
     "output_type": "stream",
     "text": [
      "O resultado da subtração é:  2\n"
     ]
    }
   ],
   "source": [
    "subtracao = sub(4,2)\n",
    "print(\"O resultado da subtração é: \", subtracao)"
   ]
  },
  {
   "cell_type": "code",
   "execution_count": 30,
   "metadata": {},
   "outputs": [],
   "source": [
    "# função para apresentar o cumprimento de uma palavra, ou um número\n",
    "\n",
    "def len_num(numero):\n",
    "    num_texto = str(numero)\n",
    "    return len(num_texto)"
   ]
  },
  {
   "cell_type": "code",
   "execution_count": 31,
   "metadata": {},
   "outputs": [],
   "source": [
    "num1 = 20\n",
    "num2 = 2022\n",
    "\n",
    "tam1 = len_num(num1)\n",
    "tam2 = len_num(num2)"
   ]
  },
  {
   "cell_type": "code",
   "execution_count": 32,
   "metadata": {},
   "outputs": [
    {
     "name": "stdout",
     "output_type": "stream",
     "text": [
      "O número 20 possui 2 números\n",
      "O número 2022 possui 4 números\n"
     ]
    }
   ],
   "source": [
    "print(\"O número %d possui %d números\" %(num1, tam1))\n",
    "print(\"O número %d possui %d números\" %(num2, tam2))"
   ]
  },
  {
   "cell_type": "code",
   "execution_count": 33,
   "metadata": {},
   "outputs": [
    {
     "name": "stdout",
     "output_type": "stream",
     "text": [
      "A palavra paragonia possui 9 letras\n"
     ]
    }
   ],
   "source": [
    "pal = \"paragonia\"\n",
    "\n",
    "pal1 = len_num(pal)\n",
    "print(\"A palavra %s possui %d letras\" %(pal, pal1))"
   ]
  },
  {
   "cell_type": "code",
   "execution_count": 34,
   "metadata": {},
   "outputs": [],
   "source": [
    "# retornando multiplos valores\n",
    "\n",
    "def ret_valores():\n",
    "    return 1,2,3"
   ]
  },
  {
   "cell_type": "code",
   "execution_count": 35,
   "metadata": {},
   "outputs": [
    {
     "name": "stdout",
     "output_type": "stream",
     "text": [
      "(1, 2, 3)\n",
      "<class 'tuple'>\n"
     ]
    }
   ],
   "source": [
    "val = ret_valores()\n",
    "print(val)\n",
    "print(type(val))"
   ]
  },
  {
   "cell_type": "code",
   "execution_count": 36,
   "metadata": {},
   "outputs": [],
   "source": [
    "# valores individuais\n",
    "\n",
    "def ret_valores(x, y, z):\n",
    "    x += x\n",
    "    y += y\n",
    "    z += z\n",
    "    return x, y, z"
   ]
  },
  {
   "cell_type": "code",
   "execution_count": 37,
   "metadata": {},
   "outputs": [
    {
     "name": "stdout",
     "output_type": "stream",
     "text": [
      "6 12 18\n"
     ]
    }
   ],
   "source": [
    "x, y, z = ret_valores(3, 6, 9)\n",
    "print(x, y, z)"
   ]
  },
  {
   "cell_type": "code",
   "execution_count": 38,
   "metadata": {},
   "outputs": [
    {
     "data": {
      "text/plain": [
       "(4, 10, 16)"
      ]
     },
     "execution_count": 38,
     "metadata": {},
     "output_type": "execute_result"
    }
   ],
   "source": [
    "# retorna uma tupla\n",
    "\n",
    "a = ret_valores(2, 5, 8)\n",
    "a"
   ]
  },
  {
   "cell_type": "markdown",
   "metadata": {},
   "source": [
    "## Mais sobre funções lambda\n"
   ]
  },
  {
   "cell_type": "code",
   "execution_count": 39,
   "metadata": {},
   "outputs": [
    {
     "name": "stdout",
     "output_type": "stream",
     "text": [
      "15\n"
     ]
    }
   ],
   "source": [
    "soma = lambda x: x+10\n",
    "val = soma(5)\n",
    "print(val)"
   ]
  },
  {
   "cell_type": "code",
   "execution_count": 40,
   "metadata": {},
   "outputs": [
    {
     "name": "stdout",
     "output_type": "stream",
     "text": [
      "9\n"
     ]
    }
   ],
   "source": [
    "# lambda com argumentos\n",
    "\n",
    "mult = lambda x,y: x*y\n",
    "val2 = mult(3,3)\n",
    "print(val2)"
   ]
  },
  {
   "cell_type": "code",
   "execution_count": 41,
   "metadata": {},
   "outputs": [
    {
     "name": "stdout",
     "output_type": "stream",
     "text": [
      "15\n"
     ]
    }
   ],
   "source": [
    "soma = lambda x: x+10\n",
    "new = soma(5)\n",
    "print(new)"
   ]
  },
  {
   "cell_type": "markdown",
   "metadata": {},
   "source": [
    "## Funções Recursivas\n",
    "\n",
    "Semelhante a um laço, chamando ela mesma"
   ]
  },
  {
   "cell_type": "code",
   "execution_count": 42,
   "metadata": {},
   "outputs": [],
   "source": [
    "# contar até 10\n",
    "\n",
    "def imprime_num(num):\n",
    "    print(num)\n",
    "    if num >=10:\n",
    "        return\n",
    "    imprime_num(num + 1)"
   ]
  },
  {
   "cell_type": "code",
   "execution_count": 43,
   "metadata": {},
   "outputs": [
    {
     "name": "stdout",
     "output_type": "stream",
     "text": [
      "1\n",
      "2\n",
      "3\n",
      "4\n",
      "5\n",
      "6\n",
      "7\n",
      "8\n",
      "9\n",
      "10\n"
     ]
    }
   ],
   "source": [
    "imprime_num(1)"
   ]
  },
  {
   "cell_type": "code",
   "execution_count": 44,
   "metadata": {},
   "outputs": [],
   "source": [
    "def imprime_str(texto, indice):\n",
    "    if indice == len(texto):\n",
    "        return\n",
    "    print(texto[indice])\n",
    "    imprime_str(texto, indice+1)"
   ]
  },
  {
   "cell_type": "code",
   "execution_count": 45,
   "metadata": {},
   "outputs": [
    {
     "name": "stdout",
     "output_type": "stream",
     "text": [
      "C\n",
      "l\n",
      "a\n",
      "y\n",
      "t\n",
      "o\n",
      "n\n"
     ]
    }
   ],
   "source": [
    "imprime_str(\"Clayton\", 0)"
   ]
  },
  {
   "cell_type": "code",
   "execution_count": 46,
   "metadata": {},
   "outputs": [],
   "source": [
    "def fat(num):\n",
    "    if (num == 1):\n",
    "        return 1\n",
    "    return num * fat(num-1)"
   ]
  },
  {
   "cell_type": "code",
   "execution_count": 47,
   "metadata": {},
   "outputs": [
    {
     "data": {
      "text/plain": [
       "120"
      ]
     },
     "execution_count": 47,
     "metadata": {},
     "output_type": "execute_result"
    }
   ],
   "source": [
    "fat(5)"
   ]
  },
  {
   "cell_type": "markdown",
   "metadata": {},
   "source": [
    "## Funções aninhadas ou Nested Functions\n",
    "\n",
    "É uma função que pode chamar uma segunda função declarada dentro de outra função (função Pai e função filho). \n",
    "- Por conta da sua característica de ser objeto de primeira classe, é possível definirmos funções dentro de outras funções, sendo esse o conceito de _nested_ _functions_."
   ]
  },
  {
   "cell_type": "code",
   "execution_count": 48,
   "metadata": {},
   "outputs": [],
   "source": [
    "# exemplo de função pai e filho\n",
    "\n",
    "def pai():\n",
    "    def filho():\n",
    "        print(\"Sou o filho\")\n",
    "    filho()"
   ]
  },
  {
   "cell_type": "code",
   "execution_count": 49,
   "metadata": {},
   "outputs": [
    {
     "name": "stdout",
     "output_type": "stream",
     "text": [
      "Sou o filho\n"
     ]
    }
   ],
   "source": [
    "pai()"
   ]
  },
  {
   "cell_type": "code",
   "execution_count": 50,
   "metadata": {},
   "outputs": [],
   "source": [
    "# exemplo pai e filho com calculadora\n",
    "\n",
    "def calc(num1, num2, op):\n",
    "    # retorno das funções de calculo (filho)\n",
    "    def soma(a,b):\n",
    "        return a+b\n",
    "    def sub(a,b):\n",
    "        return a-b\n",
    "    def mult(a,b):\n",
    "        return a*b\n",
    "    def div(a,b):\n",
    "        return a/b\n",
    "    # retorno das funções de escolha (Pai)\n",
    "    if (op == '+'):\n",
    "        return soma(num1, num2)\n",
    "    if (op == '-'):\n",
    "        return sub(num1, num2)\n",
    "    if (op == '*'):\n",
    "        return mult(num1, num2)\n",
    "    if (op == '/'):\n",
    "        return dic(num1, num2)"
   ]
  },
  {
   "cell_type": "code",
   "execution_count": 51,
   "metadata": {},
   "outputs": [
    {
     "data": {
      "text/plain": [
       "10"
      ]
     },
     "execution_count": 51,
     "metadata": {},
     "output_type": "execute_result"
    }
   ],
   "source": [
    "calc(4,6,'+')"
   ]
  },
  {
   "cell_type": "markdown",
   "metadata": {},
   "source": [
    "## Decorators em Python\n",
    "\n",
    "O conceito de decorator provê uma maneira simples de modificar o comportamento de uma função sem necessariamente alterá-la.\n",
    "\n",
    "Quando utilizamos um decorator, estamos substituindo uma função X() por outra função Y() que engloba a função X().\n"
   ]
  },
  {
   "cell_type": "code",
   "execution_count": 52,
   "metadata": {},
   "outputs": [],
   "source": [
    "# função para transformar em maiúsculo\n",
    "\n",
    "def maiusculo(func):\n",
    "    def aninhada():\n",
    "        return func().upper()\n",
    "    return aninhada"
   ]
  },
  {
   "cell_type": "code",
   "execution_count": 53,
   "metadata": {},
   "outputs": [],
   "source": [
    "# Criando decorator\n",
    "\n",
    "@maiusculo\n",
    "def mostra_string():\n",
    "    return \"Estou trabalhando com decorator\""
   ]
  },
  {
   "cell_type": "code",
   "execution_count": 54,
   "metadata": {},
   "outputs": [
    {
     "name": "stdout",
     "output_type": "stream",
     "text": [
      "ESTOU TRABALHANDO COM DECORATOR\n"
     ]
    }
   ],
   "source": [
    "# chamando a função de retorno da string\n",
    "\n",
    "string = mostra_string()\n",
    "print(string)"
   ]
  },
  {
   "cell_type": "code",
   "execution_count": 55,
   "metadata": {},
   "outputs": [],
   "source": [
    "# utilizando passagem de parâmetros\n",
    "\n",
    "def maiusculo(func):\n",
    "    def aninhada(str1, str2):\n",
    "        return func(str1, str2).upper()\n",
    "    return aninhada"
   ]
  },
  {
   "cell_type": "code",
   "execution_count": 56,
   "metadata": {},
   "outputs": [],
   "source": [
    "@maiusculo\n",
    "def concatena(str1, str2):\n",
    "    return str1 + str2"
   ]
  },
  {
   "cell_type": "code",
   "execution_count": 57,
   "metadata": {},
   "outputs": [
    {
     "name": "stdout",
     "output_type": "stream",
     "text": [
      "AULA FUNÇÕES FIEP 2022\n"
     ]
    }
   ],
   "source": [
    "string = concatena(\"Aula funções\", \" Fiep 2022\")\n",
    "print(string)"
   ]
  },
  {
   "cell_type": "code",
   "execution_count": 58,
   "metadata": {},
   "outputs": [],
   "source": [
    "def maiusculo(func):\n",
    "    def aninhada(texto):\n",
    "        return func(texto).upper()\n",
    "    return aninhada"
   ]
  },
  {
   "cell_type": "code",
   "execution_count": 59,
   "metadata": {},
   "outputs": [],
   "source": [
    "# retorna com decorator o texto entre parenteses\n",
    "\n",
    "def parenteses(func):\n",
    "    def aninhada(texto):\n",
    "        return '[' + func(texto) + ']'\n",
    "    return aninhada"
   ]
  },
  {
   "cell_type": "code",
   "execution_count": 60,
   "metadata": {},
   "outputs": [],
   "source": [
    "@maiusculo\n",
    "@parenteses\n",
    "\n",
    "def formatando(texto):\n",
    "    return texto"
   ]
  },
  {
   "cell_type": "code",
   "execution_count": 61,
   "metadata": {},
   "outputs": [
    {
     "name": "stdout",
     "output_type": "stream",
     "text": [
      "[OLHA SÓ O QUE FIZEMOS]\n"
     ]
    }
   ],
   "source": [
    "print(formatando(\"Olha só o que fizemos\"))"
   ]
  },
  {
   "cell_type": "markdown",
   "metadata": {},
   "source": [
    "## Escopo de variáveis"
   ]
  },
  {
   "cell_type": "code",
   "execution_count": 65,
   "metadata": {},
   "outputs": [
    {
     "name": "stdout",
     "output_type": "stream",
     "text": [
      "10\n"
     ]
    }
   ],
   "source": [
    "var = 10\n",
    "def func():\n",
    "    print(var)\n",
    "    variavel_local = 10\n",
    "func()"
   ]
  },
  {
   "cell_type": "code",
   "execution_count": 66,
   "metadata": {},
   "outputs": [
    {
     "name": "stdout",
     "output_type": "stream",
     "text": [
      "29\n"
     ]
    }
   ],
   "source": [
    "var = 10\n",
    "\n",
    "if True:\n",
    "    var = 29\n",
    "    \n",
    "print(var)"
   ]
  },
  {
   "cell_type": "code",
   "execution_count": 67,
   "metadata": {},
   "outputs": [
    {
     "name": "stdout",
     "output_type": "stream",
     "text": [
      "32\n",
      "10\n"
     ]
    }
   ],
   "source": [
    "# transformando em um valor global\n",
    "\n",
    "var = 10\n",
    "def func():\n",
    "    var = 32\n",
    "    print(var)\n",
    "    \n",
    "    \n",
    "func()\n",
    "print(var)"
   ]
  },
  {
   "cell_type": "code",
   "execution_count": 68,
   "metadata": {},
   "outputs": [
    {
     "name": "stdout",
     "output_type": "stream",
     "text": [
      "32\n"
     ]
    }
   ],
   "source": [
    "# transformando em um valor global\n",
    "\n",
    "var = 10\n",
    "def func():\n",
    "    global var\n",
    "    var = 32\n",
    "    \n",
    "    \n",
    "func()\n",
    "print(var)"
   ]
  },
  {
   "cell_type": "code",
   "execution_count": 75,
   "metadata": {},
   "outputs": [
    {
     "name": "stdout",
     "output_type": "stream",
     "text": [
      "Print do Filho:  22\n",
      "Print do Pai: 22\n"
     ]
    }
   ],
   "source": [
    "# Deixando mais claro\n",
    "\n",
    "def pai():\n",
    "    val_pai = 30\n",
    "    def filho():\n",
    "        nonlocal val_pai\n",
    "        val_pai = 22\n",
    "        print('Print do Filho: ',val_pai)\n",
    "    filho()\n",
    "    print('Print do Pai:', val_pai)\n",
    "    \n",
    "pai()"
   ]
  },
  {
   "cell_type": "code",
   "execution_count": 78,
   "metadata": {},
   "outputs": [
    {
     "name": "stdout",
     "output_type": "stream",
     "text": [
      "10\n"
     ]
    }
   ],
   "source": [
    "var = 10\n",
    "print(var)\n",
    "del var\n"
   ]
  },
  {
   "cell_type": "code",
   "execution_count": 84,
   "metadata": {},
   "outputs": [
    {
     "name": "stdout",
     "output_type": "stream",
     "text": [
      "[10, 20, 30]\n"
     ]
    }
   ],
   "source": [
    "array = [10, 20, 30]\n",
    "print(array)"
   ]
  },
  {
   "cell_type": "code",
   "execution_count": 83,
   "metadata": {},
   "outputs": [
    {
     "data": {
      "text/plain": [
       "[20, 30]"
      ]
     },
     "execution_count": 83,
     "metadata": {},
     "output_type": "execute_result"
    }
   ],
   "source": [
    "del array[0]\n",
    "array"
   ]
  },
  {
   "cell_type": "code",
   "execution_count": 85,
   "metadata": {},
   "outputs": [
    {
     "data": {
      "text/plain": [
       "[30]"
      ]
     },
     "execution_count": 85,
     "metadata": {},
     "output_type": "execute_result"
    }
   ],
   "source": [
    "del array[:2]\n",
    "array"
   ]
  },
  {
   "cell_type": "code",
   "execution_count": 70,
   "metadata": {},
   "outputs": [],
   "source": [
    "# Calcular o tempo de execução de uma determinada função\n",
    "\n",
    "import time\n",
    "\n",
    "def duracao(func):\n",
    "    def timer():\n",
    "        time_ini = time.time()\n",
    "        func()\n",
    "        time_end = time.time()\n",
    "        \n",
    "        print(\"[{func}] Tempo total de execução: {tempo_total}\".format(\n",
    "        func = func.__name__,\n",
    "        tempo_total=str(time_end - time_ini))\n",
    "             )\n",
    "    return timer"
   ]
  },
  {
   "cell_type": "code",
   "execution_count": 71,
   "metadata": {},
   "outputs": [
    {
     "name": "stdout",
     "output_type": "stream",
     "text": [
      "[main] Tempo total de execução: 0.2478034496307373\n"
     ]
    }
   ],
   "source": [
    "# Criando um decorator para apresentar o tempo\n",
    "\n",
    "@duracao\n",
    "def main():\n",
    "    for n in range(0, 10000000):\n",
    "        pass\n",
    "    \n",
    "main()"
   ]
  },
  {
   "cell_type": "markdown",
   "metadata": {},
   "source": [
    "## Funções Build In do Python"
   ]
  },
  {
   "cell_type": "code",
   "execution_count": 87,
   "metadata": {},
   "outputs": [
    {
     "name": "stdout",
     "output_type": "stream",
     "text": [
      "-10\n",
      "10\n",
      "Soma normal:  0\n",
      "Soma absoluta 20\n"
     ]
    }
   ],
   "source": [
    "# função de calculo absoluto\n",
    "\n",
    "num1 = -10\n",
    "num2 = 10\n",
    "\n",
    "print(num1)\n",
    "print(num2)\n",
    "print('Soma normal: ', num1 + num2)\n",
    "print('Soma absoluta', (abs(num1) + abs(num2)))"
   ]
  },
  {
   "cell_type": "code",
   "execution_count": 90,
   "metadata": {},
   "outputs": [
    {
     "name": "stdout",
     "output_type": "stream",
     "text": [
      "Potência de 2 elevado a 3 = 8\n"
     ]
    }
   ],
   "source": [
    "# exponencial\n",
    "\n",
    "x = 2\n",
    "y =3\n",
    "\n",
    "print(\"Potência de %d elevado a %d = %d\" %(x, y, x**y))"
   ]
  },
  {
   "cell_type": "code",
   "execution_count": 89,
   "metadata": {},
   "outputs": [
    {
     "name": "stdout",
     "output_type": "stream",
     "text": [
      "Potência de 2 elevado a 3 = 8\n"
     ]
    }
   ],
   "source": [
    "# exponencial\n",
    "\n",
    "x = 2\n",
    "y =3\n",
    "\n",
    "print(\"Potência de %d elevado a %d = %d\" %(x, y, pow(x,y)))"
   ]
  },
  {
   "cell_type": "code",
   "execution_count": 91,
   "metadata": {},
   "outputs": [
    {
     "name": "stdout",
     "output_type": "stream",
     "text": [
      "5.0\n"
     ]
    }
   ],
   "source": [
    "# Raiz quadrada\n",
    "\n",
    "import math\n",
    "\n",
    "print(math.sqrt(25))"
   ]
  },
  {
   "cell_type": "code",
   "execution_count": 94,
   "metadata": {},
   "outputs": [
    {
     "name": "stdout",
     "output_type": "stream",
     "text": [
      "2.12345\n"
     ]
    }
   ],
   "source": [
    "# Arredondamento\n",
    "\n",
    "print(round(2.12345, 5))"
   ]
  },
  {
   "cell_type": "code",
   "execution_count": 100,
   "metadata": {},
   "outputs": [
    {
     "name": "stdout",
     "output_type": "stream",
     "text": [
      "Arredondando para baixo:  2\n",
      "Arredondando para cima:  3\n"
     ]
    }
   ],
   "source": [
    "# arredondamento\n",
    "\n",
    "from math import floor, ceil\n",
    "\n",
    "print('Arredondando para baixo: ',floor(2.8854))\n",
    "print('Arredondando para cima: ',ceil(2.12345))"
   ]
  },
  {
   "cell_type": "code",
   "execution_count": 101,
   "metadata": {},
   "outputs": [
    {
     "name": "stdout",
     "output_type": "stream",
     "text": [
      "(2, 2)\n"
     ]
    }
   ],
   "source": [
    "# resto de divisão\n",
    "\n",
    "print(divmod(10,4))"
   ]
  },
  {
   "cell_type": "markdown",
   "metadata": {},
   "source": [
    "## Trabalhando com caracteres\n"
   ]
  },
  {
   "cell_type": "code",
   "execution_count": 102,
   "metadata": {},
   "outputs": [
    {
     "name": "stdout",
     "output_type": "stream",
     "text": [
      "O número 70 se tornou agora o valor F\n"
     ]
    }
   ],
   "source": [
    "num = 70\n",
    "carac = chr(num)\n",
    "\n",
    "print(\"O número %d se tornou agora o valor %s\" %(num, carac))"
   ]
  },
  {
   "cell_type": "code",
   "execution_count": 105,
   "metadata": {},
   "outputs": [
    {
     "name": "stdout",
     "output_type": "stream",
     "text": [
      "65 - A\n",
      "66 - B\n",
      "67 - C\n",
      "68 - D\n",
      "69 - E\n",
      "70 - F\n",
      "71 - G\n",
      "72 - H\n",
      "73 - I\n",
      "74 - J\n",
      "75 - K\n",
      "76 - L\n",
      "77 - M\n",
      "78 - N\n",
      "79 - O\n",
      "80 - P\n",
      "81 - Q\n",
      "82 - R\n",
      "83 - S\n",
      "84 - T\n",
      "85 - U\n",
      "86 - V\n",
      "87 - W\n",
      "88 - X\n",
      "89 - Y\n",
      "90 - Z\n"
     ]
    }
   ],
   "source": [
    "# equivalente dos caracteres\n",
    "\n",
    "for i in range(65,91):\n",
    "    carac = chr(i)\n",
    "    print(\"%d - %s\" %(i, carac), end='\\n')"
   ]
  },
  {
   "cell_type": "markdown",
   "metadata": {},
   "source": [
    "## Funções para manipulação de textos"
   ]
  },
  {
   "cell_type": "code",
   "execution_count": 109,
   "metadata": {},
   "outputs": [
    {
     "name": "stdout",
     "output_type": "stream",
     "text": [
      "Olá turma do hubia!\n"
     ]
    }
   ],
   "source": [
    "# transormando a primeira letra em maiúscula\n",
    "\n",
    "texto = \"olá turma do hubia!\"\n",
    "print(texto.capitalize())"
   ]
  },
  {
   "cell_type": "code",
   "execution_count": 110,
   "metadata": {},
   "outputs": [
    {
     "name": "stdout",
     "output_type": "stream",
     "text": [
      "Olá Turma Do Hubia!\n"
     ]
    }
   ],
   "source": [
    "print(texto.title())"
   ]
  },
  {
   "cell_type": "code",
   "execution_count": 108,
   "metadata": {},
   "outputs": [
    {
     "name": "stdout",
     "output_type": "stream",
     "text": [
      "ola pessoal, que texto estranho!\n",
      "OLA PESSOAL, QUE TEXTO ESTRANHO!\n",
      "oLa PeSsOaL, qUe tExtO EstRANhO!\n"
     ]
    }
   ],
   "source": [
    "texto = \"OlA pEsSoAl, QuE TeXTo eSTranHo!\"\n",
    "\n",
    "# tudo minúsculo\n",
    "print(texto.lower())\n",
    "\n",
    "# tudo maiúsculo\n",
    "print(texto.upper())\n",
    "\n",
    "# invertendo valores\n",
    "print(texto.swapcase())"
   ]
  },
  {
   "cell_type": "code",
   "execution_count": 112,
   "metadata": {},
   "outputs": [
    {
     "name": "stdout",
     "output_type": "stream",
     "text": [
      "       2467890        \n",
      "   2467890    \n",
      "----2467890-----\n"
     ]
    }
   ],
   "source": [
    "# centralizando o texto\n",
    "\n",
    "texto = \"2467890\"\n",
    "print(texto.center(22))\n",
    "print(texto.center(14))\n",
    "print(texto.center(16,'-'))"
   ]
  },
  {
   "cell_type": "code",
   "execution_count": 114,
   "metadata": {},
   "outputs": [
    {
     "name": "stdout",
     "output_type": "stream",
     "text": [
      "  2467890\n",
      "2467890  \n"
     ]
    }
   ],
   "source": [
    "# ajustando para direita ou para esquerda\n",
    "\n",
    "print(texto.rjust(9))\n",
    "print(texto.ljust(9))"
   ]
  },
  {
   "cell_type": "code",
   "execution_count": 116,
   "metadata": {},
   "outputs": [
    {
     "name": "stdout",
     "output_type": "stream",
     "text": [
      "3\n"
     ]
    }
   ],
   "source": [
    "# Frequencia\n",
    "\n",
    "texto = \"202004353520\"\n",
    "print(texto.count(\"20\"))"
   ]
  },
  {
   "cell_type": "code",
   "execution_count": 117,
   "metadata": {},
   "outputs": [
    {
     "name": "stdout",
     "output_type": "stream",
     "text": [
      "5\n"
     ]
    }
   ],
   "source": [
    "texto = \"abracadabra\"\n",
    "print(texto.count('a'))"
   ]
  },
  {
   "cell_type": "code",
   "execution_count": 121,
   "metadata": {},
   "outputs": [
    {
     "name": "stdout",
     "output_type": "stream",
     "text": [
      "False\n",
      "True\n"
     ]
    }
   ],
   "source": [
    "# terminando ou começando com um caracter??\n",
    "\n",
    "print(texto.startswith('d'))\n",
    "print(texto.endswith('a'))"
   ]
  },
  {
   "cell_type": "code",
   "execution_count": 122,
   "metadata": {},
   "outputs": [
    {
     "name": "stdout",
     "output_type": "stream",
     "text": [
      "4\n"
     ]
    }
   ],
   "source": [
    "pos = texto.find(\"c\")\n",
    "print(pos)"
   ]
  },
  {
   "cell_type": "code",
   "execution_count": 123,
   "metadata": {},
   "outputs": [
    {
     "name": "stdout",
     "output_type": "stream",
     "text": [
      "-1\n"
     ]
    }
   ],
   "source": [
    "pos2 = texto.find('x')\n",
    "print(pos2)"
   ]
  },
  {
   "cell_type": "code",
   "execution_count": 124,
   "metadata": {},
   "outputs": [
    {
     "name": "stdout",
     "output_type": "stream",
     "text": [
      "2\n"
     ]
    }
   ],
   "source": [
    "pos = texto.index(\"r\")\n",
    "print(pos)"
   ]
  },
  {
   "cell_type": "code",
   "execution_count": 126,
   "metadata": {},
   "outputs": [
    {
     "name": "stdout",
     "output_type": "stream",
     "text": [
      "Ola, sou aluno do Hubia\n"
     ]
    }
   ],
   "source": [
    "texto = \"Ol@, sou @luno do Hubi@\"\n",
    "new = texto.replace(\"@\",\"a\")\n",
    "print(new)"
   ]
  },
  {
   "cell_type": "code",
   "execution_count": 127,
   "metadata": {},
   "outputs": [
    {
     "name": "stdout",
     "output_type": "stream",
     "text": [
      "['Penso', ' logo existo', ' disse um filósofo francês René Descartes']\n"
     ]
    }
   ],
   "source": [
    "# trabalhando com o split\n",
    "\n",
    "texto = \"Penso, logo existo, disse um filósofo francês René Descartes\"\n",
    "print(texto.split(\",\"))"
   ]
  },
  {
   "cell_type": "code",
   "execution_count": 129,
   "metadata": {},
   "outputs": [
    {
     "name": "stdout",
     "output_type": "stream",
     "text": [
      "False\n",
      "True\n",
      "True\n",
      "True\n",
      "True\n"
     ]
    }
   ],
   "source": [
    "print('abcd123'.isalpha()) # e existe apenas letras\n",
    "print(\"abcd\".isalpha())\n",
    "print(\"abcd123\".isalnum()) # letras e números\n",
    "print(\"123456\".isdecimal()) # apenas números\n",
    "print(\" \".isspace()) # espaço em branco"
   ]
  },
  {
   "cell_type": "markdown",
   "metadata": {},
   "source": [
    "## Mais um pouco de Listas\n"
   ]
  },
  {
   "cell_type": "code",
   "execution_count": 135,
   "metadata": {},
   "outputs": [
    {
     "name": "stdout",
     "output_type": "stream",
     "text": [
      "[1, 2, 4, 5, 6, 8]\n"
     ]
    }
   ],
   "source": [
    "# Ordenando listas\n",
    "\n",
    "lista = [2,4,6,8,1,5]\n",
    "lista.sort()\n",
    "print(lista)"
   ]
  },
  {
   "cell_type": "code",
   "execution_count": 136,
   "metadata": {},
   "outputs": [
    {
     "name": "stdout",
     "output_type": "stream",
     "text": [
      "[8, 6, 5, 4, 2, 1]\n"
     ]
    }
   ],
   "source": [
    "# ordem decrescente\n",
    "\n",
    "lista = [2,4,6,8,1,5]\n",
    "lista.sort(reverse=True)\n",
    "print(lista)"
   ]
  },
  {
   "cell_type": "code",
   "execution_count": 137,
   "metadata": {},
   "outputs": [
    {
     "name": "stdout",
     "output_type": "stream",
     "text": [
      "[5, 1, 8, 6, 4, 2]\n"
     ]
    }
   ],
   "source": [
    "# invertendo a lista\n",
    "\n",
    "lista = [2,4,6,8,1,5]\n",
    "lista.reverse()\n",
    "print(lista)"
   ]
  },
  {
   "cell_type": "code",
   "execution_count": 138,
   "metadata": {},
   "outputs": [
    {
     "name": "stdout",
     "output_type": "stream",
     "text": [
      "['a', 'ab', 'b', 'c', 'd', 'j', 'x']\n"
     ]
    }
   ],
   "source": [
    "# ordenando textos\n",
    "\n",
    "lista2 = ['a','b','c','x','ab','d','j']\n",
    "lista2.sort()\n",
    "print(lista2)"
   ]
  },
  {
   "cell_type": "code",
   "execution_count": 139,
   "metadata": {},
   "outputs": [
    {
     "name": "stdout",
     "output_type": "stream",
     "text": [
      "['a', 'b', 'c', 'x', 'e', 'ab', 'ab', 'dca', 'jaic']\n"
     ]
    }
   ],
   "source": [
    "# ordenando do meu jeito\n",
    "\n",
    "def meu_ordena(valor):\n",
    "    return len(valor)\n",
    "\n",
    "lista = ['ab', 'a', 'dca', 'b', 'c', 'x', 'ab', 'jaic', 'e']\n",
    "lista.sort(key=meu_ordena)\n",
    "print(lista)"
   ]
  },
  {
   "cell_type": "code",
   "execution_count": 148,
   "metadata": {},
   "outputs": [],
   "source": [
    "# lista com outras listas\n",
    "\n",
    "produtos = [['Apartamento','R$ 350000'],\n",
    "          ['Veiculo','R$ 100000'],\n",
    "          ['Moto','R$ 70000'],\n",
    "          ['Moveis','R$ 50000'],\n",
    "          ['Jardim','R$ 35000']]"
   ]
  },
  {
   "cell_type": "code",
   "execution_count": 149,
   "metadata": {},
   "outputs": [
    {
     "data": {
      "text/plain": [
       "[['Apartamento', 'R$ 350000'],\n",
       " ['Veiculo', 'R$ 100000'],\n",
       " ['Moto', 'R$ 70000'],\n",
       " ['Moveis', 'R$ 50000'],\n",
       " ['Jardim', 'R$ 35000']]"
      ]
     },
     "execution_count": 149,
     "metadata": {},
     "output_type": "execute_result"
    }
   ],
   "source": [
    "produtos"
   ]
  },
  {
   "cell_type": "code",
   "execution_count": 150,
   "metadata": {},
   "outputs": [
    {
     "name": "stdout",
     "output_type": "stream",
     "text": [
      "Apartamento R$ 350000\n",
      "Veiculo R$ 100000\n",
      "Moto R$ 70000\n",
      "Moveis R$ 50000\n",
      "Jardim R$ 35000\n"
     ]
    }
   ],
   "source": [
    "for produto, valor in produtos:\n",
    "    print(produto, valor)"
   ]
  },
  {
   "cell_type": "code",
   "execution_count": 152,
   "metadata": {},
   "outputs": [
    {
     "name": "stdout",
     "output_type": "stream",
     "text": [
      "{'Clayton': 35, 'Thais': 35, 'Dayana': 35}\n"
     ]
    }
   ],
   "source": [
    "# dicionario com listas\n",
    "\n",
    "nome = (\"Clayton\", \"Thais\", \"Dayana\")\n",
    "dic = dict.fromkeys(nome, 35)\n",
    "print(dic)"
   ]
  },
  {
   "cell_type": "markdown",
   "metadata": {},
   "source": [
    "## Funções de data e hora"
   ]
  },
  {
   "cell_type": "code",
   "execution_count": 155,
   "metadata": {},
   "outputs": [
    {
     "name": "stdout",
     "output_type": "stream",
     "text": [
      "Data e hora:  2022-11-03 15:26:03.494322\n",
      "Apenas a data:  2022-11-03\n",
      "Apenas a hora:  15:26:03.494322\n"
     ]
    }
   ],
   "source": [
    "import datetime\n",
    "\n",
    "full_data = datetime.datetime.now()\n",
    "\n",
    "data = full_data.date()\n",
    "hora = full_data.time()\n",
    "\n",
    "print(\"Data e hora: \", full_data)\n",
    "print(\"Apenas a data: \", data)\n",
    "print(\"Apenas a hora: \",hora)"
   ]
  },
  {
   "cell_type": "code",
   "execution_count": 157,
   "metadata": {},
   "outputs": [
    {
     "name": "stdout",
     "output_type": "stream",
     "text": [
      "Dia:  3\n",
      "Mês:  11\n",
      "Ano:  2022\n",
      "Hora:  15\n",
      "minuto:  26\n",
      "segundos 3\n"
     ]
    }
   ],
   "source": [
    "# todas as informações de data e hora\n",
    "\n",
    "print(\"Dia: \", full_data.day)\n",
    "print(\"Mês: \", full_data.month)\n",
    "print(\"Ano: \", full_data.year)\n",
    "print(\"Hora: \", full_data.hour)\n",
    "print(\"minuto: \", full_data.minute)\n",
    "print(\"segundos\", full_data.second)"
   ]
  },
  {
   "cell_type": "code",
   "execution_count": 158,
   "metadata": {},
   "outputs": [
    {
     "name": "stdout",
     "output_type": "stream",
     "text": [
      "A data excolhida foi:  2022-09-27\n"
     ]
    }
   ],
   "source": [
    "# apontando uma data desejada\n",
    "\n",
    "data = datetime.date(day=27, month=9, year=2022)\n",
    "print(\"A data excolhida foi: \", data)"
   ]
  },
  {
   "cell_type": "code",
   "execution_count": 160,
   "metadata": {},
   "outputs": [
    {
     "name": "stdout",
     "output_type": "stream",
     "text": [
      "15:19:22\n"
     ]
    }
   ],
   "source": [
    "hora = datetime.time(15,19,22)\n",
    "print(hora)"
   ]
  },
  {
   "cell_type": "code",
   "execution_count": 165,
   "metadata": {},
   "outputs": [
    {
     "name": "stdout",
     "output_type": "stream",
     "text": [
      "03/11/22 15:33:12\n"
     ]
    }
   ],
   "source": [
    "# formatando data e hora\n",
    "\n",
    "now = datetime.datetime.now()\n",
    "now_time = now.strftime(\"%d/%m/%y %H:%M:%S\")\n",
    "print(now_time)"
   ]
  },
  {
   "cell_type": "code",
   "execution_count": 166,
   "metadata": {},
   "outputs": [
    {
     "name": "stdout",
     "output_type": "stream",
     "text": [
      "Tuesday - Tue\n",
      "September - Sep\n",
      "15 - 03\n",
      "03 - PM\n"
     ]
    }
   ],
   "source": [
    "# tratando valores de semana\n",
    "\n",
    "data = datetime.datetime(2022, 9, 27, 15, 10, 17)\n",
    "print(data.strftime(\"%A - %a\")) # dia da semana normal / abreviado\n",
    "print(data.strftime(\"%B - %b\")) # mês normal / abreviado\n",
    "print(data.strftime(\"%H - %I\")) # hora em 24 e 12 horas\n",
    "print(data.strftime(\"%I - %p\")) # o horário no formado pós time"
   ]
  },
  {
   "cell_type": "code",
   "execution_count": 168,
   "metadata": {},
   "outputs": [
    {
     "name": "stdout",
     "output_type": "stream",
     "text": [
      "17569 days, 0:00:00\n",
      "<class 'datetime.timedelta'>\n"
     ]
    }
   ],
   "source": [
    "data1 = datetime.datetime(1974, 9, 27)\n",
    "data2 = datetime.datetime(2022, 11, 3)\n",
    "dif = data2 - data1\n",
    "print(dif)\n",
    "print(type(dif))"
   ]
  },
  {
   "cell_type": "code",
   "execution_count": 170,
   "metadata": {},
   "outputs": [
    {
     "name": "stdout",
     "output_type": "stream",
     "text": [
      "Digite a data no formato dd/mm/aa: 24/12/2022\n",
      "2022-12-24 00:00:00\n"
     ]
    }
   ],
   "source": [
    "data_txt = input(\"Digite a data no formato dd/mm/aa: \")\n",
    "datetime = datetime.datetime.strptime(data_txt, \"%d/%m/%Y\")\n",
    "print(datetime)"
   ]
  },
  {
   "cell_type": "markdown",
   "metadata": {},
   "source": [
    "## Exercícios funções"
   ]
  },
  {
   "cell_type": "markdown",
   "metadata": {},
   "source": [
    "1. Crie uma função que receba um número e retorne TRUE se for negativo, caso contrário retorne FALSE;\n",
    "2. Crie uma função utilizando list comprehension que receba um array de números e retorne a soma acumulativa dos valores;\n",
    "3. Crie uma função que receba uma string e retorne a quantidade de vogais;\n",
    "4. Crie uma função que retorne o último caractere de uma função recebida;\n",
    "5. Crie uma função que retorne o inverso de um valor, Exemplo: 163 -> 361\n",
    "6. Crie uma função que receba uma lista de elementos em seguida, retorne um booleano dizendo se o valor foi encontrado ou não e sua posição no vetor;\n",
    "7. Crie uma função que receba um númeto arbitrário de parâmetros e apresente o tipo de cada um;\n",
    "8. Crie uma função que receba uma string e, utilizando decorator, retorne essa string entre aspas e em maiúscula;\n",
    "9. Crie uma função recursiva que itere os elementos de 0 a 20 e apresente o resultado de sua divisão inteira pelo número três;\n",
    "10. Sem usar comandos \"ifs\", crie uma função que receba dois números e retorne a soma dos mesmos porém, o valor retornado não pode passar de 10000 e deve ser sempre > 0;\n",
    "11. Crie uma função que receba argumentos de tamanho arbitrário sendo que, todos esses argumentos serão números. Em seguida, retorne o menor número entre os valores recebidos.\n",
    "12. Crie uma função que receba uma string e, para cada letra minúscula, transforme em letra maiúscula e vice-versa."
   ]
  },
  {
   "cell_type": "code",
   "execution_count": 178,
   "metadata": {},
   "outputs": [
    {
     "data": {
      "text/plain": [
       "[1, 2, 3]"
      ]
     },
     "execution_count": 178,
     "metadata": {},
     "output_type": "execute_result"
    }
   ],
   "source": [
    "l1 = [1,2,3]\n",
    "l2 = l1[:]\n",
    "l1[0] = 0\n",
    "l2"
   ]
  },
  {
   "cell_type": "code",
   "execution_count": 179,
   "metadata": {},
   "outputs": [
    {
     "data": {
      "text/plain": [
       "139665043921992"
      ]
     },
     "execution_count": 179,
     "metadata": {},
     "output_type": "execute_result"
    }
   ],
   "source": [
    "id(l2)"
   ]
  },
  {
   "cell_type": "code",
   "execution_count": 180,
   "metadata": {},
   "outputs": [
    {
     "data": {
      "text/plain": [
       "139665045698760"
      ]
     },
     "execution_count": 180,
     "metadata": {},
     "output_type": "execute_result"
    }
   ],
   "source": [
    "id(l1)"
   ]
  },
  {
   "cell_type": "code",
   "execution_count": 182,
   "metadata": {},
   "outputs": [
    {
     "data": {
      "text/plain": [
       "False"
      ]
     },
     "execution_count": 182,
     "metadata": {},
     "output_type": "execute_result"
    }
   ],
   "source": [
    "l1 is l2"
   ]
  },
  {
   "cell_type": "code",
   "execution_count": 183,
   "metadata": {},
   "outputs": [],
   "source": [
    "a = 2"
   ]
  },
  {
   "cell_type": "code",
   "execution_count": 184,
   "metadata": {},
   "outputs": [],
   "source": [
    "b = a"
   ]
  },
  {
   "cell_type": "code",
   "execution_count": 185,
   "metadata": {},
   "outputs": [
    {
     "data": {
      "text/plain": [
       "94417019860032"
      ]
     },
     "execution_count": 185,
     "metadata": {},
     "output_type": "execute_result"
    }
   ],
   "source": [
    "id(a)"
   ]
  },
  {
   "cell_type": "code",
   "execution_count": 186,
   "metadata": {},
   "outputs": [
    {
     "data": {
      "text/plain": [
       "94417019860032"
      ]
     },
     "execution_count": 186,
     "metadata": {},
     "output_type": "execute_result"
    }
   ],
   "source": [
    "id(b)"
   ]
  },
  {
   "cell_type": "code",
   "execution_count": 188,
   "metadata": {},
   "outputs": [
    {
     "data": {
      "text/plain": [
       "True"
      ]
     },
     "execution_count": 188,
     "metadata": {},
     "output_type": "execute_result"
    }
   ],
   "source": [
    "a is b"
   ]
  },
  {
   "cell_type": "code",
   "execution_count": null,
   "metadata": {},
   "outputs": [],
   "source": []
  }
 ],
 "metadata": {
  "kernelspec": {
   "display_name": "Python 3",
   "language": "python",
   "name": "python3"
  },
  "language_info": {
   "codemirror_mode": {
    "name": "ipython",
    "version": 3
   },
   "file_extension": ".py",
   "mimetype": "text/x-python",
   "name": "python",
   "nbconvert_exporter": "python",
   "pygments_lexer": "ipython3",
   "version": "3.7.3"
  }
 },
 "nbformat": 4,
 "nbformat_minor": 2
}
