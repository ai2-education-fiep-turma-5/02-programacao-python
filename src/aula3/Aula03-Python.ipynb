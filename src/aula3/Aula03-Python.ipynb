{
 "cells": [
  {
   "cell_type": "markdown",
   "metadata": {},
   "source": [
    "## Listas, strings, vetores e matrizes\n",
    "\n",
    "Tuplas e listas são variáveis compostas, isto é, estruturas de dados em Python muito úteis para\n",
    "armazenar uma coletânea de objetos de forma indexada, ou seja, em cada posição da lista ou da\n",
    "tupla temos uma variável. A figura a seguir ilustra essa ideia como um trem de dados.\n",
    "\n",
    "<img src= compostas.png>\n",
    "\n",
    "### O trem de dados my_array é uma única variável\n",
    "\n",
    "A única diferença entre uma tupla e uma lista, é que tuplas são objetos imutáveis, ou seja, uma vez\n",
    "criados não podem ser modificados. Em outras palavras, é impossível usar o operador de atribuição\n",
    "com uma tupla. As listas por outro lado podem ser modificadas sempre que necessário e portanto\n",
    "são muito mais utilizadas na prática do que as tuplas."
   ]
  },
  {
   "cell_type": "code",
   "execution_count": 1,
   "metadata": {},
   "outputs": [],
   "source": [
    "# criar uma lista vazia\n",
    "lista = []"
   ]
  },
  {
   "cell_type": "code",
   "execution_count": 2,
   "metadata": {},
   "outputs": [
    {
     "data": {
      "text/plain": [
       "[]"
      ]
     },
     "execution_count": 2,
     "metadata": {},
     "output_type": "execute_result"
    }
   ],
   "source": [
    "lista"
   ]
  },
  {
   "cell_type": "code",
   "execution_count": 3,
   "metadata": {},
   "outputs": [
    {
     "data": {
      "text/plain": [
       "[7.5, 9, 8.3]"
      ]
     },
     "execution_count": 3,
     "metadata": {},
     "output_type": "execute_result"
    }
   ],
   "source": [
    "# criar uma lista com 3 notas\n",
    "\n",
    "notas = [7.5, 9, 8.3]\n",
    "notas"
   ]
  },
  {
   "cell_type": "code",
   "execution_count": 4,
   "metadata": {},
   "outputs": [
    {
     "data": {
      "text/plain": [
       "[9.3, 9, 8.3]"
      ]
     },
     "execution_count": 4,
     "metadata": {},
     "output_type": "execute_result"
    }
   ],
   "source": [
    "notas[0] = 9.3\n",
    "notas"
   ]
  },
  {
   "cell_type": "code",
   "execution_count": 5,
   "metadata": {},
   "outputs": [
    {
     "name": "stdout",
     "output_type": "stream",
     "text": [
      "A lista 'la' contém 5 elementos\n"
     ]
    }
   ],
   "source": [
    "# lista com 5 elementos\n",
    "\n",
    "la = [1,2,3,4,5]\n",
    "print(\"A lista 'la' contém %d elementos\" %len(la))"
   ]
  },
  {
   "cell_type": "code",
   "execution_count": 6,
   "metadata": {},
   "outputs": [
    {
     "name": "stdout",
     "output_type": "stream",
     "text": [
      "A lista 'lc' contém 5 elementos aleatórios\n",
      "[750, 554, 38, 578, 489]\n"
     ]
    }
   ],
   "source": [
    "# random\n",
    "\n",
    "import random\n",
    "\n",
    "lb = []\n",
    "for i in range(5):\n",
    "    lb.append(random.randint(0,1000))\n",
    "    \n",
    "print(\"A lista 'lc' contém %d elementos aleatórios\" %len(lb))\n",
    "print(lb)"
   ]
  },
  {
   "cell_type": "code",
   "execution_count": 7,
   "metadata": {},
   "outputs": [
    {
     "data": {
      "text/plain": [
       "[1, 2, 3, 4, 5, 750, 554, 38, 578, 489]"
      ]
     },
     "execution_count": 7,
     "metadata": {},
     "output_type": "execute_result"
    }
   ],
   "source": [
    "# concatenando listas\n",
    "\n",
    "lc = la + lb\n",
    "lc"
   ]
  },
  {
   "cell_type": "code",
   "execution_count": 8,
   "metadata": {},
   "outputs": [
    {
     "data": {
      "text/plain": [
       "list"
      ]
     },
     "execution_count": 8,
     "metadata": {},
     "output_type": "execute_result"
    }
   ],
   "source": [
    "type(lc)"
   ]
  },
  {
   "cell_type": "code",
   "execution_count": 9,
   "metadata": {},
   "outputs": [],
   "source": [
    "lc.append(101)"
   ]
  },
  {
   "cell_type": "code",
   "execution_count": 10,
   "metadata": {},
   "outputs": [
    {
     "data": {
      "text/plain": [
       "[1, 2, 3, 4, 5, 750, 554, 38, 578, 489, 101]"
      ]
     },
     "execution_count": 10,
     "metadata": {},
     "output_type": "execute_result"
    }
   ],
   "source": [
    "lc"
   ]
  },
  {
   "cell_type": "code",
   "execution_count": 11,
   "metadata": {},
   "outputs": [
    {
     "name": "stdout",
     "output_type": "stream",
     "text": [
      "A lista 'lc' contém 11 elementos aleatórios\n"
     ]
    }
   ],
   "source": [
    "print(\"A lista 'lc' contém %d elementos aleatórios\" %len(lc))"
   ]
  },
  {
   "cell_type": "code",
   "execution_count": 12,
   "metadata": {},
   "outputs": [
    {
     "name": "stdout",
     "output_type": "stream",
     "text": [
      "Maior elemento de lc é 750\n",
      "Menor elemento de lc é 1\n"
     ]
    }
   ],
   "source": [
    "# encontrarndo maior e menor elemento da lista\n",
    "\n",
    "print(\"Maior elemento de lc é %d\" %max(lc))\n",
    "print(\"Menor elemento de lc é %d\" %min(lc))"
   ]
  },
  {
   "cell_type": "code",
   "execution_count": 13,
   "metadata": {},
   "outputs": [
    {
     "name": "stdout",
     "output_type": "stream",
     "text": [
      "Lista 'lc' ordenada: \n",
      "[1, 2, 3, 4, 5, 38, 101, 489, 554, 578, 750]\n"
     ]
    }
   ],
   "source": [
    "# ordenando a lista\n",
    "\n",
    "print(\"Lista 'lc' ordenada: \")\n",
    "lc.sort()\n",
    "print(lc)"
   ]
  },
  {
   "cell_type": "code",
   "execution_count": 17,
   "metadata": {},
   "outputs": [
    {
     "name": "stdout",
     "output_type": "stream",
     "text": [
      "Entre com o valor: 5\n",
      "Entre com o valor: 8\n",
      "Entre com o valor: 3\n",
      "Entre com o valor: 7\n",
      "Entre com o valor: 1\n",
      "Vetor lido:  [5, 8, 3, 7, 1]\n"
     ]
    }
   ],
   "source": [
    "# apresentar 5 valores inteiros\n",
    "\n",
    "vetor = []\n",
    "i = 1\n",
    "while i <= 5:\n",
    "    n = int(input(\"Entre com o valor: \"))\n",
    "    vetor.append(n)\n",
    "    i+=1\n",
    "\n",
    "print(\"Vetor lido: \",vetor)"
   ]
  },
  {
   "cell_type": "code",
   "execution_count": 21,
   "metadata": {},
   "outputs": [
    {
     "name": "stdout",
     "output_type": "stream",
     "text": [
      "Entre com a nota: 3\n",
      "Entre com a nota: 6\n",
      "Entre com a nota: 2\n",
      "Entre com a nota: 8\n",
      "Notas:  [3.0, 6.0, 2.0, 8.0]\n",
      "O valor da média é:  4.75\n",
      "Cuidado, você está de exame\n"
     ]
    }
   ],
   "source": [
    "# valores descritivos\n",
    "\n",
    "notas = []\n",
    "soma = 0\n",
    "i = 1\n",
    "while i <= 4:\n",
    "    n = float(input(\"Entre com a nota: \"))\n",
    "    notas.append(n)\n",
    "    soma+=n\n",
    "    i+=1\n",
    "    \n",
    "print(\"Notas: \", notas)\n",
    "print(\"O valor da média é:  %.2f\" %(soma/4))\n",
    "\n",
    "estado = soma/4\n",
    "if estado < 4:\n",
    "    print(\"Que pena, você está reprovado\")\n",
    "elif estado <= 5:\n",
    "    print(\"Cuidado, você está de exame\")\n",
    "else:\n",
    "    print(\"Parabéns, você está aprovado\")"
   ]
  },
  {
   "cell_type": "markdown",
   "metadata": {},
   "source": [
    "## Slicing (fatiamento)"
   ]
  },
  {
   "cell_type": "code",
   "execution_count": 25,
   "metadata": {},
   "outputs": [
    {
     "data": {
      "text/plain": [
       "[5, 4]"
      ]
     },
     "execution_count": 25,
     "metadata": {},
     "output_type": "execute_result"
    }
   ],
   "source": [
    "l = [9,8,7,6,5,4,3,2,1]\n",
    "l[4:6]"
   ]
  },
  {
   "cell_type": "markdown",
   "metadata": {},
   "source": [
    "## List Comprehensions"
   ]
  },
  {
   "cell_type": "code",
   "execution_count": 26,
   "metadata": {},
   "outputs": [
    {
     "data": {
      "text/plain": [
       "['a', 'u', 'l', 'a', 's', 'P', 'y', 't', 'h', 'o', 'n']"
      ]
     },
     "execution_count": 26,
     "metadata": {},
     "output_type": "execute_result"
    }
   ],
   "source": [
    "# sequencia de caracteres\n",
    "\n",
    "lst = [x for x in 'aulasPython']\n",
    "lst"
   ]
  },
  {
   "cell_type": "code",
   "execution_count": 27,
   "metadata": {},
   "outputs": [
    {
     "data": {
      "text/plain": [
       "[0, 1, 4, 9, 16, 25, 36, 49, 64, 81, 100]"
      ]
     },
     "execution_count": 27,
     "metadata": {},
     "output_type": "execute_result"
    }
   ],
   "source": [
    "# Variável elevada ao quadrado para um range\n",
    "\n",
    "lst = [x**2 for x in range(0,11)]\n",
    "lst"
   ]
  },
  {
   "cell_type": "code",
   "execution_count": 31,
   "metadata": {},
   "outputs": [
    {
     "data": {
      "text/plain": [
       "[9, 8, 7, 6, 5, 4, 3, 2, 1]"
      ]
     },
     "execution_count": 31,
     "metadata": {},
     "output_type": "execute_result"
    }
   ],
   "source": [
    "# Lista antiga\n",
    "\n",
    "l"
   ]
  },
  {
   "cell_type": "code",
   "execution_count": 38,
   "metadata": {},
   "outputs": [
    {
     "data": {
      "text/plain": [
       "[9, 7, 5, 3, 1]"
      ]
     },
     "execution_count": 38,
     "metadata": {},
     "output_type": "execute_result"
    }
   ],
   "source": [
    "# números impares\n",
    "\n",
    "ls = [x for x in l if x%2 == 1]\n",
    "ls"
   ]
  },
  {
   "cell_type": "code",
   "execution_count": 34,
   "metadata": {},
   "outputs": [
    {
     "data": {
      "text/plain": [
       "[8, 6, 4, 2]"
      ]
     },
     "execution_count": 34,
     "metadata": {},
     "output_type": "execute_result"
    }
   ],
   "source": [
    "# valores pares\n",
    "\n",
    "ls3 = [x for x in l if x%2 == 0]\n",
    "ls3"
   ]
  },
  {
   "cell_type": "code",
   "execution_count": 39,
   "metadata": {},
   "outputs": [
    {
     "data": {
      "text/plain": [
       "[64, 36, 16, 4]"
      ]
     },
     "execution_count": 39,
     "metadata": {},
     "output_type": "execute_result"
    }
   ],
   "source": [
    "l4 = [x**2 for x in l if x%2 == 0]\n",
    "l4"
   ]
  },
  {
   "cell_type": "code",
   "execution_count": 40,
   "metadata": {},
   "outputs": [
    {
     "data": {
      "text/plain": [
       "[32.0, 50.0, 68.18, 94.1]"
      ]
     },
     "execution_count": 40,
     "metadata": {},
     "output_type": "execute_result"
    }
   ],
   "source": [
    "celsius = [0,10,20.1,34.5]\n",
    "fahr = [e * 9/5 + 32 for e in celsius]\n",
    "fahr"
   ]
  },
  {
   "cell_type": "code",
   "execution_count": 41,
   "metadata": {},
   "outputs": [
    {
     "data": {
      "text/plain": [
       "[2, 12]"
      ]
     },
     "execution_count": 41,
     "metadata": {},
     "output_type": "execute_result"
    }
   ],
   "source": [
    "# filtro de listas\n",
    "\n",
    "a = [-4, 2, 0, -1, 12, -3]\n",
    "b = [e for e in a if e > 0]\n",
    "b"
   ]
  },
  {
   "cell_type": "code",
   "execution_count": 42,
   "metadata": {},
   "outputs": [
    {
     "name": "stdout",
     "output_type": "stream",
     "text": [
      "Lista original: ['a', 2, 'c', 12, 'd', 4.7, 'aulas']\n",
      "Valores inteiros:  [2, 12]\n",
      "Valores strings:  ['a', 'c', 'd', 'aulas']\n",
      "Valores float:  [4.7]\n"
     ]
    }
   ],
   "source": [
    "# filtrando tipos de variáveis\n",
    "\n",
    "a = ['a', 2, 'c', 12, 'd', 4.7, 'aulas']\n",
    "\n",
    "b = [e for e in a if type(e) == int]\n",
    "c = [e for e in a if type(e) == str]\n",
    "d = [e for e in a if type(e) == float]\n",
    "\n",
    "print(\"Lista original:\", a)\n",
    "print(\"Valores inteiros: \", b)\n",
    "print(\"Valores strings: \", c)\n",
    "print(\"Valores float: \", d)"
   ]
  },
  {
   "cell_type": "code",
   "execution_count": 43,
   "metadata": {},
   "outputs": [],
   "source": [
    "# encontrando vogais\n",
    "\n",
    "def vogal(c):\n",
    "    v = 'aeiou'\n",
    "    if c in v:\n",
    "        return True\n",
    "    else:\n",
    "        return False\n"
   ]
  },
  {
   "cell_type": "code",
   "execution_count": 45,
   "metadata": {},
   "outputs": [
    {
     "data": {
      "text/plain": [
       "['e', 'o', 'u', 'e', 'u', 'a', 'o', 'o', 'o', 'u', 'i', 'a']"
      ]
     },
     "execution_count": 45,
     "metadata": {},
     "output_type": "execute_result"
    }
   ],
   "source": [
    "frase = \"estou estudando python no Hubia\"\n",
    "\n",
    "vogais = [c for c in frase if vogal(c)]\n",
    "vogais"
   ]
  },
  {
   "cell_type": "code",
   "execution_count": 47,
   "metadata": {},
   "outputs": [
    {
     "name": "stdout",
     "output_type": "stream",
     "text": [
      "['par', 'impar', 'par', 'impar', 'par', 'impar', 'par', 'impar', 'par', 'impar']\n"
     ]
    }
   ],
   "source": [
    "# Condição no início\n",
    "\n",
    "transform = [\"par\" if i %2 == 0 else \"impar\" for i in range(10)]\n",
    "print(transform)"
   ]
  },
  {
   "cell_type": "code",
   "execution_count": 48,
   "metadata": {},
   "outputs": [
    {
     "data": {
      "text/plain": [
       "[18, 14, 11, 19]"
      ]
     },
     "execution_count": 48,
     "metadata": {},
     "output_type": "execute_result"
    }
   ],
   "source": [
    "# utilizando multiplas condições\n",
    "\n",
    "a = [9, 2, 18, 14, 22, 11, 7, 19, 23]\n",
    "b = [e for e in a if e > 10 if e < 20]\n",
    "b"
   ]
  },
  {
   "cell_type": "code",
   "execution_count": 50,
   "metadata": {},
   "outputs": [
    {
     "name": "stdout",
     "output_type": "stream",
     "text": [
      "['1a', '1b', '1c', '1d', '1e', '2a', '2b', '2c', '2d', '2e', '3a', '3b', '3c', '3d', '3e', '4a', '4b', '4c', '4d', '4e', '5a', '5b', '5c', '5d', '5e']\n"
     ]
    }
   ],
   "source": [
    "# loops aninhados (produto cartesiano de duas listas)\n",
    "\n",
    "a = [1,2,3,4,5]\n",
    "b = ['a','b','c','d','e']\n",
    "\n",
    "c = [str(i) + j for i in a for j in b]\n",
    "print(c)"
   ]
  },
  {
   "cell_type": "code",
   "execution_count": 51,
   "metadata": {},
   "outputs": [
    {
     "name": "stdout",
     "output_type": "stream",
     "text": [
      "[1, 2, 3, 4, 5, 6, 7, 8, 9]\n"
     ]
    }
   ],
   "source": [
    "# nivelando listas\n",
    "\n",
    "num1 = [[1,2,3],[4,5,6],[7,8,9]]\n",
    "c = [l for num in num1 for l in num]\n",
    "print(c)"
   ]
  },
  {
   "cell_type": "code",
   "execution_count": 52,
   "metadata": {},
   "outputs": [
    {
     "data": {
      "text/plain": [
       "[[1, 4, 7], [2, 5, 8], [3, 6, 9]]"
      ]
     },
     "execution_count": 52,
     "metadata": {},
     "output_type": "execute_result"
    }
   ],
   "source": [
    "num1 = [[1,2,3],\n",
    "        [4,5,6],\n",
    "        [7,8,9]]\n",
    "m1 = [[row[i] for row in num1] for i in range(3)]\n",
    "m1"
   ]
  },
  {
   "cell_type": "markdown",
   "metadata": {},
   "source": [
    "## Expressões Lambda\n",
    "\n",
    "Expressões lambda são chamadas de funções anônimas, nada mais são do que funções que o usuário não precisa definir, ou seja, não vai precisar escrever a função e depois utilizá-la dentro do código"
   ]
  },
  {
   "cell_type": "code",
   "execution_count": 63,
   "metadata": {},
   "outputs": [
    {
     "data": {
      "text/plain": [
       "15"
      ]
     },
     "execution_count": 63,
     "metadata": {},
     "output_type": "execute_result"
    }
   ],
   "source": [
    "# somando argumentos\n",
    "\n",
    "x = lambda a:a+10\n",
    "x(5)"
   ]
  },
  {
   "cell_type": "code",
   "execution_count": 64,
   "metadata": {},
   "outputs": [
    {
     "name": "stdout",
     "output_type": "stream",
     "text": [
      "30\n"
     ]
    }
   ],
   "source": [
    "# multiplicando por b\n",
    "\n",
    "x = lambda a, b: a*b\n",
    "print(x(5,6))"
   ]
  },
  {
   "cell_type": "code",
   "execution_count": 65,
   "metadata": {},
   "outputs": [
    {
     "data": {
      "text/plain": [
       "12"
      ]
     },
     "execution_count": 65,
     "metadata": {},
     "output_type": "execute_result"
    }
   ],
   "source": [
    "(lambda a, b: a*b)(3,4)"
   ]
  },
  {
   "cell_type": "code",
   "execution_count": 66,
   "metadata": {},
   "outputs": [
    {
     "data": {
      "text/plain": [
       "14"
      ]
     },
     "execution_count": 66,
     "metadata": {},
     "output_type": "execute_result"
    }
   ],
   "source": [
    "(lambda x, y, z: x + y + z)(2, 4, 8)"
   ]
  },
  {
   "cell_type": "code",
   "execution_count": 68,
   "metadata": {},
   "outputs": [
    {
     "data": {
      "text/plain": [
       "'nome completo: Clayton Pereira'"
      ]
     },
     "execution_count": 68,
     "metadata": {},
     "output_type": "execute_result"
    }
   ],
   "source": [
    "# lambda também recebe parâmetros de nomes\n",
    "\n",
    "full_name = lambda primeiro, ultimo: f'nome completo: {primeiro.title()}{ultimo.title()}'\n",
    "full_name('Clayton',' Pereira')"
   ]
  },
  {
   "cell_type": "markdown",
   "metadata": {},
   "source": [
    "## Função Map\n",
    "\n",
    "Pega uma lista de informações e aplica sobre cada um dos valores dessa lista de informações, uma função.\n",
    "Então, sempre que for executar uma função para vários valores de uma lista, nós vamos urilizar a função **map**."
   ]
  },
  {
   "cell_type": "code",
   "execution_count": 69,
   "metadata": {},
   "outputs": [
    {
     "data": {
      "text/plain": [
       "['GATO', 'CACHORRO', 'CAMELO', 'ELEFANTE']"
      ]
     },
     "execution_count": 69,
     "metadata": {},
     "output_type": "execute_result"
    }
   ],
   "source": [
    "# Alterando a fonte\n",
    "\n",
    "list(map(lambda x: x.upper(), ['gato','cachorro', 'camelo', 'elefante']))"
   ]
  },
  {
   "cell_type": "code",
   "execution_count": 70,
   "metadata": {},
   "outputs": [
    {
     "data": {
      "text/plain": [
       "['Gato', 'Cachorro', 'Camelo', 'Elefante']"
      ]
     },
     "execution_count": 70,
     "metadata": {},
     "output_type": "execute_result"
    }
   ],
   "source": [
    "# com list comprehension\n",
    "\n",
    "[x.capitalize() for x in ['gato','cachorro', 'camelo', 'elefante']]"
   ]
  },
  {
   "cell_type": "code",
   "execution_count": 73,
   "metadata": {},
   "outputs": [
    {
     "data": {
      "text/plain": [
       "1"
      ]
     },
     "execution_count": 73,
     "metadata": {},
     "output_type": "execute_result"
    }
   ],
   "source": [
    "# filtrando por vogais\n",
    "\n",
    "list(filter(lambda x: 'ga' in x, ['gato','cachorro', 'camelo', 'elefante']))"
   ]
  },
  {
   "cell_type": "code",
   "execution_count": 75,
   "metadata": {},
   "outputs": [],
   "source": [
    "# calculo de imposto com 30%\n",
    "\n",
    "preco = 1000\n",
    "\n",
    "def calc_imposto(preco):\n",
    "    return preco*0.3"
   ]
  },
  {
   "cell_type": "code",
   "execution_count": 78,
   "metadata": {},
   "outputs": [
    {
     "data": {
      "text/plain": [
       "300.0"
      ]
     },
     "execution_count": 78,
     "metadata": {},
     "output_type": "execute_result"
    }
   ],
   "source": [
    "calc_imposto(preco)"
   ]
  },
  {
   "cell_type": "code",
   "execution_count": 77,
   "metadata": {},
   "outputs": [
    {
     "data": {
      "text/plain": [
       "300.0"
      ]
     },
     "execution_count": 77,
     "metadata": {},
     "output_type": "execute_result"
    }
   ],
   "source": [
    "calc_imposto2 = lambda x: x*0.3\n",
    "calc_imposto2(preco)"
   ]
  },
  {
   "cell_type": "code",
   "execution_count": 79,
   "metadata": {},
   "outputs": [
    {
     "data": {
      "text/plain": [
       "[300.0, 900.0, 1500.0, 3000.0]"
      ]
     },
     "execution_count": 79,
     "metadata": {},
     "output_type": "execute_result"
    }
   ],
   "source": [
    "# Map em cada valor da lista\n",
    "\n",
    "precos = [1000, 3000, 5000, 10000]\n",
    "impostos = list(map(lambda x: x*0.3, precos))\n",
    "impostos"
   ]
  },
  {
   "cell_type": "code",
   "execution_count": 80,
   "metadata": {},
   "outputs": [
    {
     "name": "stdout",
     "output_type": "stream",
     "text": [
      "<map object at 0x7fdec80540f0>\n"
     ]
    }
   ],
   "source": [
    "# criando o objeto map\n",
    "\n",
    "preco2_imp = map(calc_imposto, precos)\n",
    "print(preco2_imp)"
   ]
  },
  {
   "cell_type": "code",
   "execution_count": 82,
   "metadata": {},
   "outputs": [
    {
     "name": "stdout",
     "output_type": "stream",
     "text": [
      "[300.0, 900.0, 1500.0, 3000.0]\n"
     ]
    }
   ],
   "source": [
    "# apresentando o resultado com o list\n",
    "\n",
    "preco2_imp = list(map(calc_imposto, precos))\n",
    "print(preco2_imp)"
   ]
  },
  {
   "cell_type": "code",
   "execution_count": 83,
   "metadata": {},
   "outputs": [
    {
     "name": "stdout",
     "output_type": "stream",
     "text": [
      "lista =  [1, 2, 3, 4, 5, 6] \n",
      "\n",
      "produto =  720\n"
     ]
    }
   ],
   "source": [
    "# retorna o produto de todos os elementos da lista\n",
    "\n",
    "from functools import reduce\n",
    "\n",
    "lista = [1,2,3,4,5,6]\n",
    "produto = reduce(lambda x,y: x*y, lista)\n",
    "print(\"lista = \", lista, \"\\n\\nproduto = \", produto)"
   ]
  },
  {
   "cell_type": "code",
   "execution_count": 91,
   "metadata": {},
   "outputs": [
    {
     "name": "stdout",
     "output_type": "stream",
     "text": [
      "10\n",
      "20\n",
      "30\n",
      "40\n"
     ]
    }
   ],
   "source": [
    "# resultado em um for do lambda\n",
    "\n",
    "all_list = [lambda arg=x: arg * 10 for x in range(1,5)]\n",
    "for i in all_list:\n",
    "    print(i())"
   ]
  },
  {
   "cell_type": "code",
   "execution_count": 92,
   "metadata": {},
   "outputs": [
    {
     "name": "stdout",
     "output_type": "stream",
     "text": [
      "[90, 21, 60, 32]\n"
     ]
    }
   ],
   "source": [
    "# filtrando mioridade\n",
    "\n",
    "idade = [13, 90, 17, 21, 60, 32]\n",
    "adultos = list(filter(lambda age: age > 18, idade))\n",
    "print(adultos)"
   ]
  },
  {
   "cell_type": "code",
   "execution_count": 93,
   "metadata": {},
   "outputs": [],
   "source": [
    "import numpy as np"
   ]
  },
  {
   "cell_type": "code",
   "execution_count": 97,
   "metadata": {},
   "outputs": [
    {
     "data": {
      "text/plain": [
       "(2, 5)"
      ]
     },
     "execution_count": 97,
     "metadata": {},
     "output_type": "execute_result"
    }
   ],
   "source": [
    "a = np.array([[2, 4, 6, 8, 10],[1,3,5,7,9]])\n",
    "np.shape(a)"
   ]
  },
  {
   "cell_type": "code",
   "execution_count": 99,
   "metadata": {},
   "outputs": [
    {
     "data": {
      "text/plain": [
       "dtype('int64')"
      ]
     },
     "execution_count": 99,
     "metadata": {},
     "output_type": "execute_result"
    }
   ],
   "source": [
    "a.dtype"
   ]
  },
  {
   "cell_type": "code",
   "execution_count": 100,
   "metadata": {},
   "outputs": [
    {
     "data": {
      "text/plain": [
       "2"
      ]
     },
     "execution_count": 100,
     "metadata": {},
     "output_type": "execute_result"
    }
   ],
   "source": [
    "len(a)"
   ]
  },
  {
   "cell_type": "code",
   "execution_count": 101,
   "metadata": {},
   "outputs": [
    {
     "data": {
      "text/plain": [
       "tuple"
      ]
     },
     "execution_count": 101,
     "metadata": {},
     "output_type": "execute_result"
    }
   ],
   "source": [
    "b = (2, 4)\n",
    "type(b)"
   ]
  },
  {
   "cell_type": "code",
   "execution_count": 102,
   "metadata": {},
   "outputs": [
    {
     "data": {
      "text/plain": [
       "2"
      ]
     },
     "execution_count": 102,
     "metadata": {},
     "output_type": "execute_result"
    }
   ],
   "source": [
    "b[0]"
   ]
  },
  {
   "cell_type": "code",
   "execution_count": 109,
   "metadata": {},
   "outputs": [
    {
     "data": {
      "text/plain": [
       "array([[5, 5],\n",
       "       [5, 5],\n",
       "       [5, 5]])"
      ]
     },
     "execution_count": 109,
     "metadata": {},
     "output_type": "execute_result"
    }
   ],
   "source": [
    "b = np.full((3,2),5)\n",
    "b"
   ]
  },
  {
   "cell_type": "code",
   "execution_count": 107,
   "metadata": {},
   "outputs": [
    {
     "data": {
      "text/plain": [
       "array([[2., 2.],\n",
       "       [0., 0.],\n",
       "       [0., 0.]])"
      ]
     },
     "execution_count": 107,
     "metadata": {},
     "output_type": "execute_result"
    }
   ],
   "source": [
    "b[0] = 2\n",
    "b"
   ]
  },
  {
   "cell_type": "code",
   "execution_count": 110,
   "metadata": {},
   "outputs": [
    {
     "data": {
      "text/plain": [
       "array([[5, 5, 5],\n",
       "       [5, 5, 5]])"
      ]
     },
     "execution_count": 110,
     "metadata": {},
     "output_type": "execute_result"
    }
   ],
   "source": [
    "b.T"
   ]
  },
  {
   "cell_type": "code",
   "execution_count": 111,
   "metadata": {},
   "outputs": [
    {
     "data": {
      "text/plain": [
       "array([[5, 5],\n",
       "       [5, 5],\n",
       "       [5, 5]])"
      ]
     },
     "execution_count": 111,
     "metadata": {},
     "output_type": "execute_result"
    }
   ],
   "source": [
    "b"
   ]
  },
  {
   "cell_type": "code",
   "execution_count": 116,
   "metadata": {},
   "outputs": [
    {
     "data": {
      "text/plain": [
       "array([15, 15])"
      ]
     },
     "execution_count": 116,
     "metadata": {},
     "output_type": "execute_result"
    }
   ],
   "source": [
    "b.sum(axis=0)"
   ]
  },
  {
   "cell_type": "code",
   "execution_count": 114,
   "metadata": {},
   "outputs": [
    {
     "data": {
      "text/plain": [
       "array([10, 10, 10])"
      ]
     },
     "execution_count": 114,
     "metadata": {},
     "output_type": "execute_result"
    }
   ],
   "source": [
    "b.sum(axis=1)"
   ]
  },
  {
   "cell_type": "code",
   "execution_count": null,
   "metadata": {},
   "outputs": [],
   "source": []
  }
 ],
 "metadata": {
  "kernelspec": {
   "display_name": "Python 3",
   "language": "python",
   "name": "python3"
  },
  "language_info": {
   "codemirror_mode": {
    "name": "ipython",
    "version": 3
   },
   "file_extension": ".py",
   "mimetype": "text/x-python",
   "name": "python",
   "nbconvert_exporter": "python",
   "pygments_lexer": "ipython3",
   "version": "3.7.3"
  }
 },
 "nbformat": 4,
 "nbformat_minor": 2
}
